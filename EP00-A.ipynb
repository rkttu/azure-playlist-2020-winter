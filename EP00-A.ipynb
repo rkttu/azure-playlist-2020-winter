{
 "cells": [
  {
   "cell_type": "markdown",
   "metadata": {
    "slideshow": {
     "slide_type": "slide"
    }
   },
   "source": [
    "# 오프닝"
   ]
  },
  {
   "cell_type": "markdown",
   "metadata": {
    "slideshow": {
     "slide_type": "slide"
    }
   },
   "source": [
    "Q: 이번 에피소드는 총 몇 개로 구성되어 있나요?\n",
    "    \n",
    "A: 다음 AKS 엔진에 대한 소개를 포함해 총 8개 에피소드를 소개할 예정입니다."
   ]
  },
  {
   "cell_type": "markdown",
   "metadata": {
    "slideshow": {
     "slide_type": "slide"
    }
   },
   "source": [
    "Q: 구체적으로 어떤 내용을 다루는지 간단히 소개 부탁드립니다.\n",
    "\n",
    "A: 이번 시리즈에서는 AKS 엔진으로 만드는 커스터마이징된 여러 가지 쿠버네티스 클러스터들을 살펴보면서 쿠버네티스 클러스터가 어떻게 동작하는지 둘러볼 예정입니다."
   ]
  },
  {
   "cell_type": "markdown",
   "metadata": {
    "slideshow": {
     "slide_type": "slide"
    }
   },
   "source": [
    "A: 초대형 클러스터 쉽게 만들기에서는 노드 들의 집합인 노드 풀을 이용하여 총 100대의 노드로 구성되는 쿠버네티스 클러스터를 AKS 엔진으로 어떻게 만들 수 있는지 살펴봅니다.\n",
    "\n",
    "머신 러닝용 GPU 클러스터 쉽게 만들기에서는 머신 러닝 애플리케이션을 구동하기 위한 목적으로 GPU가 지원되는 쿠버네티스 클러스터를 AKS 엔진으로 어떻게 만들 수 있는지 살펴봅니다."
   ]
  },
  {
   "cell_type": "markdown",
   "metadata": {
    "slideshow": {
     "slide_type": "slide"
    }
   },
   "source": [
    "A: 장애에 강한 멀티 마스터 노드 쉽게 만들기에서는 쿠버네티스 노드 구축에서 까다로운 부분인 멀티 마스터 노드를 상황에 따라 늘이거나 줄이는 방법을 살펴봅니다.\n",
    "\n",
    "가성비 좋은 스팟 인스턴스로 비용 아끼기에서는 저렴한 비용으로 사용할 수 있는 스팟 인스턴스를 이용하여 쿠버네티스 클러스터를 좀 더 저렴하게 구축할 수 있는 방법을 살펴봅니다."
   ]
  },
  {
   "cell_type": "markdown",
   "metadata": {
    "slideshow": {
     "slide_type": "slide"
    }
   },
   "source": [
    "A: 리눅스와 윈도우 컨테이너 같이 쓰기에서는 리눅스 컨테이너와 윈도우 컨테이너를 하나의 쿠버네티스 클러스터 안에서 사용할 수 있도록 클러스터를 구축하는 방법을 살펴봅니다.\n",
    "\n",
    "쿠버네티스 클러스터를 모니터링하는 다양한 법에서는 컨테이너 모니터링 애드온, 그라파나를 AKS 엔진을 통해 손쉽게 배포하고 모니터링을 시작할 수 있는 방법을 살펴봅니다."
   ]
  },
  {
   "cell_type": "markdown",
   "metadata": {
    "slideshow": {
     "slide_type": "slide"
    }
   },
   "source": [
    "클로징: AKS 엔진에 대한 부분이 특히 오픈소스 관점에서 많은 기대가 됩니다. 다음 영상에서 본격적으로 만나겠습니다. 감사합니다."
   ]
  }
 ],
 "metadata": {
  "celltoolbar": "Slideshow",
  "kernelspec": {
   "display_name": "Python 3",
   "language": "python",
   "name": "python3"
  },
  "language_info": {
   "codemirror_mode": {
    "name": "ipython",
    "version": 3
   },
   "file_extension": ".py",
   "mimetype": "text/x-python",
   "name": "python",
   "nbconvert_exporter": "python",
   "pygments_lexer": "ipython3",
   "version": "3.7.4"
  }
 },
 "nbformat": 4,
 "nbformat_minor": 2
}
