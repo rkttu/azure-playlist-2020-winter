{
 "cells": [
  {
   "cell_type": "markdown",
   "metadata": {
    "slideshow": {
     "slide_type": "slide"
    }
   },
   "source": [
    "# EP07: 정보 보안의 끝판왕, 인텔 SGX 클러스터 만들기"
   ]
  },
  {
   "cell_type": "markdown",
   "metadata": {
    "slideshow": {
     "slide_type": "slide"
    }
   },
   "source": [
    "## 애저 로그인 상태 확인\n",
    "\n",
    "우선 애저 커맨드 라인 도구의 로그인 상태를 먼저 확인합니다. 로그인 상태가 아니면 다른 터미널에서 `az login` 명령을 실행합니다. 설치되어있지 않다면 OS 버전 별로 애저 커맨드 라인 도구를 설치하고 준비합니다."
   ]
  },
  {
   "cell_type": "code",
   "execution_count": 1,
   "metadata": {
    "slideshow": {
     "slide_type": "slide"
    }
   },
   "outputs": [
    {
     "data": {
      "text/html": [
       "\r\n",
       "<div>\r\n",
       "    <div id='dotnet-interactive-this-cell-5393.Microsoft.DotNet.Interactive.Http.HttpPort' style='display: none'>\r\n",
       "        The below script needs to be able to find the current output cell; this is an easy method to get it.\r\n",
       "    </div>\r\n",
       "    <script type='text/javascript'>\r\n",
       "async function probeAddresses(probingAddresses) {\r\n",
       "    function timeout(ms, promise) {\r\n",
       "        return new Promise(function (resolve, reject) {\r\n",
       "            setTimeout(function () {\r\n",
       "                reject(new Error('timeout'))\r\n",
       "            }, ms)\r\n",
       "            promise.then(resolve, reject)\r\n",
       "        })\r\n",
       "    }\r\n",
       "\r\n",
       "    if (Array.isArray(probingAddresses)) {\r\n",
       "        for (let i = 0; i < probingAddresses.length; i++) {\r\n",
       "\r\n",
       "            let rootUrl = probingAddresses[i];\r\n",
       "\r\n",
       "            if (!rootUrl.endsWith('/')) {\r\n",
       "                rootUrl = `${rootUrl}/`;\r\n",
       "            }\r\n",
       "\r\n",
       "            try {\r\n",
       "                let response = await timeout(1000, fetch(`${rootUrl}discovery`, {\r\n",
       "                    method: 'POST',\r\n",
       "                    cache: 'no-cache',\r\n",
       "                    mode: 'cors',\r\n",
       "                    timeout: 1000,\r\n",
       "                    headers: {\r\n",
       "                        'Content-Type': 'text/plain'\r\n",
       "                    },\r\n",
       "                    body: probingAddresses[i]\r\n",
       "                }));\r\n",
       "\r\n",
       "                if (response.status == 200) {\r\n",
       "                    return rootUrl;\r\n",
       "                }\r\n",
       "            }\r\n",
       "            catch (e) { }\r\n",
       "        }\r\n",
       "    }\r\n",
       "}\r\n",
       "\r\n",
       "function loadDotnetInteractiveApi() {\r\n",
       "    probeAddresses([\"http://172.30.112.174:1030/\", \"http://127.0.0.1:1030/\"])\r\n",
       "        .then((root) => {\r\n",
       "        // use probing to find host url and api resources\r\n",
       "        // load interactive helpers and language services\r\n",
       "        let dotnetInteractiveRequire = require.config({\r\n",
       "        context: '5393.Microsoft.DotNet.Interactive.Http.HttpPort',\r\n",
       "                paths:\r\n",
       "            {\r\n",
       "                'dotnet-interactive': `${root}resources`\r\n",
       "                }\r\n",
       "        }) || require;\r\n",
       "\r\n",
       "            window.dotnetInteractiveRequire = dotnetInteractiveRequire;\r\n",
       "\r\n",
       "            window.configureRequireFromExtension = function(extensionName, extensionCacheBuster) {\r\n",
       "                let paths = {};\r\n",
       "                paths[extensionName] = `${root}extensions/${extensionName}/resources/`;\r\n",
       "                \r\n",
       "                let internalRequire = require.config({\r\n",
       "                    context: extensionCacheBuster,\r\n",
       "                    paths: paths,\r\n",
       "                    urlArgs: `cacheBuster=${extensionCacheBuster}`\r\n",
       "                    }) || require;\r\n",
       "\r\n",
       "                return internalRequire\r\n",
       "            };\r\n",
       "        \r\n",
       "            dotnetInteractiveRequire([\r\n",
       "                    'dotnet-interactive/dotnet-interactive'\r\n",
       "                ],\r\n",
       "                function (dotnet) {\r\n",
       "                    dotnet.init(window);\r\n",
       "                },\r\n",
       "                function (error) {\r\n",
       "                    console.log(error);\r\n",
       "                }\r\n",
       "            );\r\n",
       "        })\r\n",
       "        .catch(error => {console.log(error);});\r\n",
       "    }\r\n",
       "\r\n",
       "// ensure `require` is available globally\r\n",
       "if ((typeof(require) !==  typeof(Function)) || (typeof(require.config) !== typeof(Function))) {\r\n",
       "    let require_script = document.createElement('script');\r\n",
       "    require_script.setAttribute('src', 'https://cdnjs.cloudflare.com/ajax/libs/require.js/2.3.6/require.min.js');\r\n",
       "    require_script.setAttribute('type', 'text/javascript');\r\n",
       "    \r\n",
       "    \r\n",
       "    require_script.onload = function() {\r\n",
       "        loadDotnetInteractiveApi();\r\n",
       "    };\r\n",
       "\r\n",
       "    document.getElementsByTagName('head')[0].appendChild(require_script);\r\n",
       "}\r\n",
       "else {\r\n",
       "    loadDotnetInteractiveApi();\r\n",
       "}\r\n",
       "\r\n",
       "    </script>\r\n",
       "</div>"
      ]
     },
     "metadata": {},
     "output_type": "display_data"
    },
    {
     "name": "stdout",
     "output_type": "stream",
     "text": [
      "Name               CloudName    SubscriptionId                        State    IsDefault\n",
      "-----------------  -----------  ------------------------------------  -------  -----------\n",
      "rkttu@outlook.com  AzureCloud   e6535fda-2c47-411d-9e51-ae11ef7bde27  Enabled  True\n"
     ]
    }
   ],
   "source": [
    "az account list"
   ]
  },
  {
   "cell_type": "markdown",
   "metadata": {
    "slideshow": {
     "slide_type": "slide"
    }
   },
   "source": [
    "## AKS 엔진 설치 상태 확인\n",
    "\n",
    "아래 명령어를 실행하여 `aks-engine`이 설치되었는지 확인합니다. 설치되어있지 않다면 OS 버전 별로 각각 설치 가이드를 따라 설치를 진행합니다."
   ]
  },
  {
   "cell_type": "code",
   "execution_count": 2,
   "metadata": {
    "slideshow": {
     "slide_type": "slide"
    }
   },
   "outputs": [
    {
     "name": "stdout",
     "output_type": "stream",
     "text": [
      "Version: v0.56.0\n",
      "GitCommit: 666073d49\n",
      "GitTreeState: clean\n"
     ]
    }
   ],
   "source": [
    "aks-engine version"
   ]
  },
  {
   "cell_type": "markdown",
   "metadata": {
    "slideshow": {
     "slide_type": "slide"
    }
   },
   "source": [
    "## 서비스 주체 생성\n",
    "\n",
    "쿠버네티스 클러스터를 만든 후에는 클러스터 수준에서 스스로 애저 리소스들을 제어할 수 있어야 하므로, 서비스 주체 계정을 만들어 계속 해당 계정을 사용하도록 설정합니다."
   ]
  },
  {
   "cell_type": "code",
   "execution_count": 3,
   "metadata": {
    "slideshow": {
     "slide_type": "slide"
    }
   },
   "outputs": [
    {
     "name": "stdout",
     "output_type": "stream",
     "text": [
      "Changing \"AzurePlaylist\" to a valid URI of \"http://AzurePlaylist\", which is the required format used for service principal names\n",
      "Found an existing application instance of \"5f6ed45a-660e-47f5-9c08-6e5515f17640\". We will patch it\n",
      "Creating a role assignment under the scope of \"/subscriptions/e6535fda-2c47-411d-9e51-ae11ef7bde27\"\n",
      "  Role assignment already exists.\n",
      "\n",
      "Your App ID is 5f6ed45a-660e-47f5-9c08-6e5515f17640\n"
     ]
    }
   ],
   "source": [
    "$SubscriptionData = (az account list -o json) | ConvertFrom-Json -Depth 16\n",
    "$SubscriptionId = $SubscriptionData[0].id\n",
    "$SvcPrincipal = (az ad sp create-for-rbac `\n",
    "  -n=\"AzurePlaylist\" --role=\"Contributor\" `\n",
    "  --scopes=\"/subscriptions/$SubscriptionId\" `\n",
    "  -o json) | ConvertFrom-Json -Depth 16\n",
    "\n",
    "$PrincipalId = $SvcPrincipal.AppId\n",
    "$PrincipalPwd = $SvcPrincipal.Password\n",
    "\n",
    "\"Your App ID is $PrincipalId\""
   ]
  },
  {
   "cell_type": "markdown",
   "metadata": {
    "slideshow": {
     "slide_type": "slide"
    }
   },
   "source": [
    "## SSH 키 준비하기\n",
    "\n",
    "아래 명령어를 실행하여 SSH 키의 공개 키를 준비합니다. 설치되어있지 않다면 SSH 키 쌍을 만듭니다."
   ]
  },
  {
   "cell_type": "code",
   "execution_count": 4,
   "metadata": {
    "slideshow": {
     "slide_type": "slide"
    }
   },
   "outputs": [],
   "source": [
    "$PublicKeyValue = Get-Content -Path \"$HOME\\.ssh\\id_rsa.pub\""
   ]
  },
  {
   "cell_type": "markdown",
   "metadata": {
    "slideshow": {
     "slide_type": "slide"
    }
   },
   "source": [
    "## API 모델 준비하기\n",
    "\n",
    "이제 API 모델을 준비할 차례입니다. AKS 엔진은 코드 기반 인프라 관리 방식을 구현하기 위하여 JSON API 모델을 작성하면, 여기에 맞추어 ARM 템플릿을 만들어줍니다. 이것을 애저 명령줄 도구를 통해 배포하면 손쉽게 쿠버네티스 클러스터를 생성할 수 있습니다."
   ]
  },
  {
   "cell_type": "code",
   "execution_count": 5,
   "metadata": {
    "slideshow": {
     "slide_type": "slide"
    }
   },
   "outputs": [],
   "source": [
    "$ApiModel = @\"\n",
    "{\n",
    "  'apiVersion': 'vlabs',\n",
    "  'properties': {\n",
    "    'orchestratorProfile': {\n",
    "      'orchestratorType': 'Kubernetes'\n",
    "    },\n",
    "    'servicePrincipalProfile': {\n",
    "      'clientId': '',\n",
    "      'secret': ''\n",
    "    },\n",
    "    'masterProfile': {\n",
    "      'count': 1,\n",
    "      'dnsPrefix': '',\n",
    "      'vmSize': 'Standard_D2_v3'\n",
    "    },\n",
    "    'agentPoolProfiles': [\n",
    "      {\n",
    "        'name': 'linuxpool1',\n",
    "        'count': 3,\n",
    "        'distro': 'ubuntu-18.04-gen2',\n",
    "        'vmSize': 'Standard_DC2s_v2'\n",
    "      },\n",
    "      {\n",
    "        'name': 'linuxpool2',\n",
    "        'count': 3,\n",
    "        'distro': 'ubuntu-18.04-gen2',\n",
    "        'vmSize': 'Standard_DC2s_v2'\n",
    "      }\n",
    "    ],\n",
    "    'linuxProfile': {\n",
    "      'adminUsername': 'azureuser',\n",
    "      'ssh': {\n",
    "        'publicKeys': [\n",
    "          {\n",
    "            'keyData': ''\n",
    "          }\n",
    "        ]\n",
    "      }\n",
    "    }\n",
    "  }\n",
    "}\n",
    "\"@ | ConvertFrom-Json -Depth 16"
   ]
  },
  {
   "cell_type": "markdown",
   "metadata": {
    "slideshow": {
     "slide_type": "slide"
    }
   },
   "source": [
    "## API 모델 내용 변경하기\n",
    "\n",
    "나중에 리눅스 마스터 노드에 접속할 수 있도록 현재 컴퓨터에서 사용하는 SSH 공개 키를 배포할 때 같이 등록합니다. 그리고 서비스 주체를 가리키는 아이디 값과 고유 비밀 키 값을 API 모델에 같이 지정합니다."
   ]
  },
  {
   "cell_type": "code",
   "execution_count": 6,
   "metadata": {
    "slideshow": {
     "slide_type": "slide"
    }
   },
   "outputs": [],
   "source": [
    "$ApiModel.properties.linuxProfile.ssh.publicKeys[0].keyData = \"$PublicKeyValue\"\n",
    "$ApiModel.properties.servicePrincipalProfile.clientId = \"$PrincipalId\"\n",
    "$ApiModel.properties.servicePrincipalProfile.secret = \"$PrincipalPwd\""
   ]
  },
  {
   "cell_type": "code",
   "execution_count": 7,
   "metadata": {
    "slideshow": {
     "slide_type": "slide"
    }
   },
   "outputs": [
    {
     "name": "stdout",
     "output_type": "stream",
     "text": [
      "\n",
      "\n",
      "    Directory: /Users/rkttu/Projects/azure-playlist-aks-engine\n",
      "\n",
      "Mode                 LastWriteTime         Length Name\n",
      "----                 -------------         ------ ----\n",
      "-----     2020. 11. 15.  오후 8:58          19671 EP07.ipynb\n",
      "-----     2020. 11. 15. 오후 10:47           1291 ep07.json\n",
      "\n"
     ]
    }
   ],
   "source": [
    "$ApiModel | ConvertTo-Json -Depth 16 | Out-File -Encoding utf8 -Path 'ep07.json' -Force\n",
    "\n",
    "dir 'ep07*'"
   ]
  },
  {
   "cell_type": "markdown",
   "metadata": {
    "slideshow": {
     "slide_type": "slide"
    }
   },
   "source": [
    "## API 모델을 ARM 템플릿으로 변환하고 배포하기\n",
    "\n",
    "다음의 명령어를 실행하여 API 모델을 ARM 템플릿으로 변환하고 곧바로 애저에 배포하도록 하겠습니다. 이 명령어는 최초에 한 번만 실행하고, 그 이후에는 `ep03_output` 디렉터리 안에 있는 파일들을 이용하여 클러스터를 관리하도록 합니다."
   ]
  },
  {
   "cell_type": "code",
   "execution_count": 11,
   "metadata": {},
   "outputs": [],
   "source": [
    "$DnsPrefix = 'rkttuep07'\n",
    "$ResourceGroup = 'rkttuep07'\n",
    "$Location = 'westus'"
   ]
  },
  {
   "cell_type": "code",
   "execution_count": 17,
   "metadata": {
    "slideshow": {
     "slide_type": "slide"
    }
   },
   "outputs": [
    {
     "name": "stdout",
     "output_type": "stream",
     "text": [
      "\u001b[36mINFO\u001b[0m[0000] No subscription provided, using selected subscription from azure CLI: e6535fda-2c47-411d-9e51-ae11ef7bde27 \n",
      "\u001b[33mWARN\u001b[0m[0003] apimodel: missing masterProfile.dnsPrefix will use \"rkttuep07\" \n",
      "\u001b[33mWARN\u001b[0m[0005] containerd will be upgraded to version 1.3.7 \n",
      "\u001b[36mINFO\u001b[0m[0009] Starting ARM Deployment rkttuep07-956989609 in resource group rkttuep07. This will take some time... \n",
      "Error: resources.DeploymentsClient#CreateOrUpdate: Failure sending request: StatusCode=400 -- Original Error: Code=\"InvalidTemplateDeployment\" Message=\"The template deployment 'rkttuep07-956989609' is not valid according to the validation procedure. The tracking id is '47b8edb5-7cb9-42a6-8155-d3080d040e93'. See inner errors for details.\" Details=[{\"code\":\"QuotaExceeded\",\"message\":\"Operation could not be completed as it results in exceeding approved standardDCSv2Family Cores quota. Additional details - Deployment Model: Resource Manager, Location: westus, Current Limit: 0, Current Usage: 0, Additional Required: 12, (Minimum) New Limit Required: 12. Submit a request for Quota increase at https://aka.ms/ProdportalCRP/?#create/Microsoft.Support/Parameters/%7B%22subId%22:%22e6535fda-2c47-411d-9e51-ae11ef7bde27%22,%22pesId%22:%2206bfd9d3-516b-d5c6-5802-169c800dec89%22,%22supportTopicId%22:%22e12e3d1d-7fa0-af33-c6d0-3c50df9658a3%22%7D by specifying parameters listed in the ‘Details’ section for deployment to succeed. Please read more about quota limits at https://docs.microsoft.com/en-us/azure/azure-supportability/per-vm-quota-requests.\"}]\n",
      "Usage:\n",
      "  aks-engine deploy [flags]\n",
      "\n",
      "Flags:\n",
      "  -m, --api-model string             path to your cluster definition file\n",
      "      --auth-method client_secret    auth method (default:client_secret, `cli`, `client_certificate`, `device`) (default \"client_secret\")\n",
      "      --auto-suffix                  automatically append a compressed timestamp to the dnsPrefix to ensure unique cluster name automatically\n",
      "      --azure-env string             the target Azure cloud (default \"AzurePublicCloud\")\n",
      "      --ca-certificate-path string   path to the CA certificate to use for Kubernetes PKI assets\n",
      "      --ca-private-key-path string   path to the CA private key to use for Kubernetes PKI assets\n",
      "      --certificate-path string      path to client certificate (used with --auth-method=client_certificate)\n",
      "      --client-id string             client id (used with --auth-method=[client_secret|client_certificate])\n",
      "      --client-secret string         client secret (used with --auth-method=client_secret)\n",
      "  -p, --dns-prefix string            dns prefix (unique name for the cluster)\n",
      "  -f, --force-overwrite              automatically overwrite existing files in the output directory\n",
      "  -h, --help                         help for deploy\n",
      "      --identity-system azure_ad     identity system (default:azure_ad, `adfs`) (default \"azure_ad\")\n",
      "      --language string              language to return error messages in (default \"en-us\")\n",
      "  -l, --location string              location to deploy to (required)\n",
      "  -o, --output-directory string      output directory (derived from FQDN if absent)\n",
      "      --private-key-path string      path to private key (used with --auth-method=client_certificate)\n",
      "  -g, --resource-group string        resource group to deploy to (will use the DNS prefix from the apimodel if not specified)\n",
      "      --set stringArray              set values on the command line (can specify multiple or separate values with commas: key1=val1,key2=val2)\n",
      "  -s, --subscription-id string       azure subscription id (required)\n",
      "\n",
      "Global Flags:\n",
      "      --debug   enable verbose debug logs\n",
      "\n"
     ]
    }
   ],
   "source": [
    "aks-engine deploy --dns-prefix \"$DnsPrefix\" `\n",
    "    --resource-group \"$ResourceGroup\" `\n",
    "    --location \"$Location\" `\n",
    "    --api-model \"ep07.json\" `\n",
    "    --auto-suffix `\n",
    "    --output-directory \"ep07_output\" `\n",
    "    --auth-method cli"
   ]
  },
  {
   "cell_type": "markdown",
   "metadata": {
    "slideshow": {
     "slide_type": "slide"
    }
   },
   "source": [
    "## kubectl 실행해보기\n",
    "\n",
    "클러스터가 잘 만들어졌는지 확인해보기 위하여 다음과 같이 `KUBECONFIG` 환경 변수를 설정하여 클러스터에 접근하고, 노드와 구성 상태를 확인합니다."
   ]
  },
  {
   "cell_type": "code",
   "execution_count": 17,
   "metadata": {
    "slideshow": {
     "slide_type": "slide"
    }
   },
   "outputs": [
    {
     "name": "stdout",
     "output_type": "stream",
     "text": [
      "NAME                        STATUS   ROLES    AGE    VERSION   INTERNAL-IP    EXTERNAL-IP   OS-IMAGE             KERNEL-VERSION     CONTAINER-RUNTIME\n",
      "k8s-linuxpool1-28379872-0   Ready    agent    118s   v1.18.8   10.240.0.34    <none>        Ubuntu 18.04.5 LTS   5.4.0-1025-azure   docker://19.3.12\n",
      "k8s-master-28379872-0       Ready    master   118s   v1.18.8   10.255.255.5   <none>        Ubuntu 18.04.5 LTS   5.4.0-1025-azure   docker://19.3.12\n"
     ]
    }
   ],
   "source": [
    "$env:KUBECONFIG=\"ep07_output/kubeconfig/kubeconfig.$Location.json\"\n",
    "kubectl get nodes -o wide"
   ]
  },
  {
   "cell_type": "code",
   "execution_count": 21,
   "metadata": {
    "slideshow": {
     "slide_type": "slide"
    }
   },
   "outputs": [
    {
     "name": "stdout",
     "output_type": "stream",
     "text": [
      "Error from server (NotFound): secrets \"dashboard-grafana\" not found\n"
     ]
    }
   ],
   "source": [
    "$env:NAMESPACE='default'\n",
    "$env:K8S_SECRET_NAME='dashboard-grafana'\n",
    "kubectl get secret $env:K8S_SECRET_NAME -o jsonpath=\"{.data.grafana-admin-user}\" | base64 --decode"
   ]
  },
  {
   "cell_type": "markdown",
   "metadata": {
    "slideshow": {
     "slide_type": "slide"
    }
   },
   "source": [
    "## 리소스 그룹 정리\n",
    "\n",
    "테스트를 위해 생성한 리소스 그룹을 제거하고 모든 리소스를 일괄 정리합니다."
   ]
  },
  {
   "cell_type": "code",
   "execution_count": 22,
   "metadata": {
    "slideshow": {
     "slide_type": "slide"
    }
   },
   "outputs": [],
   "source": [
    "az group delete --name $ResourceGroup --yes --no-wait"
   ]
  },
  {
   "cell_type": "markdown",
   "metadata": {
    "slideshow": {
     "slide_type": "slide"
    }
   },
   "source": [
    "## 감사합니다!"
   ]
  }
 ],
 "metadata": {
  "celltoolbar": "Slideshow",
  "kernelspec": {
   "display_name": ".NET (PowerShell)",
   "language": "PowerShell",
   "name": ".net-powershell"
  },
  "language_info": {
   "file_extension": ".ps1",
   "mimetype": "text/x-powershell",
   "name": "PowerShell",
   "pygments_lexer": "powershell",
   "version": "7.0"
  }
 },
 "nbformat": 4,
 "nbformat_minor": 2
}
