{
 "cells": [
  {
   "cell_type": "markdown",
   "metadata": {
    "slideshow": {
     "slide_type": "slide"
    }
   },
   "source": [
    "# EP01: 대규모 쿠버네티스 클러스터 만들기"
   ]
  },
  {
   "cell_type": "markdown",
   "metadata": {
    "slideshow": {
     "slide_type": "slide"
    }
   },
   "source": [
    "Q: 이번에 살펴볼 내용은 어떤 내용인가요?\n",
    "\n",
    "A: 이번 에피소드에서는 수십대의 쿠버네티스 노드를 필요에 따라 빠르게 확장하거나 축소할 수 있는 쿠버네티스 클러스터를 AKS 엔진으로 직접 만드는 내용을 살펴보려고 합니다."
   ]
  },
  {
   "cell_type": "markdown",
   "metadata": {
    "slideshow": {
     "slide_type": "slide"
    }
   },
   "source": [
    "Q: 대규모로 쿠버네티스 클라우드를 운영하기 위해서는 고려해야 할 내용들이 많이 있을 것 같은데, 어떤게 있을까요?\n",
    "\n",
    "A: 기본적으로 쿠버네티스 클러스터는 대규모로 운영하더라도 잘 작동할 수 있도록 설계되어있습니다. 그래서 규모가 크든 작든 사용 방법에서는 차이가 없습니다.\n",
    "\n",
    "다만 쿠버네티스가 실행되는 기반은 애저이고, 애저는 여러 사람들이 공용으로 사용하는 컴퓨팅 자원을 여러분에게 제공합니다.\n",
    "\n",
    "그래서 세 가지 사항을 고려하시는 것이 좋습니다."
   ]
  },
  {
   "cell_type": "markdown",
   "metadata": {
    "slideshow": {
     "slide_type": "slide"
    }
   },
   "source": [
    "A: 첫 째는 노드 풀의 크기를 작은 단위로 여러 개를 준비하는 것이 좋습니다. 예를 들어, 노드 풀 한 개에는 5개에서 20개 정도의 노드를 만들 수 있도록 설정하고, 이런 노드 풀을 50개, 100개 이상 미리 준비하여 필요할 때 바로 노드를 만들고, 필요 없을 때 해제할 수 있도록 만들어 두는 것입니다."
   ]
  },
  {
   "cell_type": "markdown",
   "metadata": {
    "slideshow": {
     "slide_type": "slide"
    }
   },
   "source": [
    "A: 둘 째는 뒤에서 다시 살펴보겠지만, 재시도를 하는 간격 사이를 지수승 간격만큼 벌리는 것입니다. 애저로부터 노드를 할당받을 수 없는 상황이 오면, 보통은 일시적으로 요청량이 크게 늘어난 경우가 대체로 많습니다. 이럴 때에는 무한정 재시도를 하는 것보다 재시도 횟수 간의 간격을 점점 크게 잡는 것이 성공 확률을 높이고, 클라우드 전반의 안정성을 높이는데도 도움이 됩니다.\n",
    "\n",
    "마지막으로는 할당량 제한을 항상 모니터링하고, 수요에 따라 미리 할당량 증가 신청을 접수하는 것입니다. 이 부분에 대해서는 나중에 다시 말씀드리겠습니다."
   ]
  },
  {
   "cell_type": "markdown",
   "metadata": {
    "slideshow": {
     "slide_type": "slide"
    }
   },
   "source": [
    "## 애저 로그인 상태 확인\n",
    "\n",
    "우선 애저 커맨드 라인 도구의 로그인 상태를 먼저 확인합니다. 로그인 상태가 아니면 다른 터미널에서 `az login` 명령을 실행합니다. 설치되어있지 않다면 OS 버전 별로 애저 커맨드 라인 도구를 설치하고 준비합니다."
   ]
  },
  {
   "cell_type": "code",
   "execution_count": 1,
   "metadata": {
    "scrolled": true,
    "slideshow": {
     "slide_type": "slide"
    }
   },
   "outputs": [
    {
     "data": {
      "text/html": [
       "\r\n",
       "<div>\r\n",
       "    <div id='dotnet-interactive-this-cell-11949.Microsoft.DotNet.Interactive.Http.HttpPort' style='display: none'>\r\n",
       "        The below script needs to be able to find the current output cell; this is an easy method to get it.\r\n",
       "    </div>\r\n",
       "    <script type='text/javascript'>\r\n",
       "async function probeAddresses(probingAddresses) {\r\n",
       "    function timeout(ms, promise) {\r\n",
       "        return new Promise(function (resolve, reject) {\r\n",
       "            setTimeout(function () {\r\n",
       "                reject(new Error('timeout'))\r\n",
       "            }, ms)\r\n",
       "            promise.then(resolve, reject)\r\n",
       "        })\r\n",
       "    }\r\n",
       "\r\n",
       "    if (Array.isArray(probingAddresses)) {\r\n",
       "        for (let i = 0; i < probingAddresses.length; i++) {\r\n",
       "\r\n",
       "            let rootUrl = probingAddresses[i];\r\n",
       "\r\n",
       "            if (!rootUrl.endsWith('/')) {\r\n",
       "                rootUrl = `${rootUrl}/`;\r\n",
       "            }\r\n",
       "\r\n",
       "            try {\r\n",
       "                let response = await timeout(1000, fetch(`${rootUrl}discovery`, {\r\n",
       "                    method: 'POST',\r\n",
       "                    cache: 'no-cache',\r\n",
       "                    mode: 'cors',\r\n",
       "                    timeout: 1000,\r\n",
       "                    headers: {\r\n",
       "                        'Content-Type': 'text/plain'\r\n",
       "                    },\r\n",
       "                    body: probingAddresses[i]\r\n",
       "                }));\r\n",
       "\r\n",
       "                if (response.status == 200) {\r\n",
       "                    return rootUrl;\r\n",
       "                }\r\n",
       "            }\r\n",
       "            catch (e) { }\r\n",
       "        }\r\n",
       "    }\r\n",
       "}\r\n",
       "\r\n",
       "function loadDotnetInteractiveApi() {\r\n",
       "    probeAddresses([\"http://192.168.1.2:1036/\", \"http://127.0.0.1:1036/\"])\r\n",
       "        .then((root) => {\r\n",
       "        // use probing to find host url and api resources\r\n",
       "        // load interactive helpers and language services\r\n",
       "        let dotnetInteractiveRequire = require.config({\r\n",
       "        context: '11949.Microsoft.DotNet.Interactive.Http.HttpPort',\r\n",
       "                paths:\r\n",
       "            {\r\n",
       "                'dotnet-interactive': `${root}resources`\r\n",
       "                }\r\n",
       "        }) || require;\r\n",
       "\r\n",
       "            window.dotnetInteractiveRequire = dotnetInteractiveRequire;\r\n",
       "\r\n",
       "            window.configureRequireFromExtension = function(extensionName, extensionCacheBuster) {\r\n",
       "                let paths = {};\r\n",
       "                paths[extensionName] = `${root}extensions/${extensionName}/resources/`;\r\n",
       "                \r\n",
       "                let internalRequire = require.config({\r\n",
       "                    context: extensionCacheBuster,\r\n",
       "                    paths: paths,\r\n",
       "                    urlArgs: `cacheBuster=${extensionCacheBuster}`\r\n",
       "                    }) || require;\r\n",
       "\r\n",
       "                return internalRequire\r\n",
       "            };\r\n",
       "        \r\n",
       "            dotnetInteractiveRequire([\r\n",
       "                    'dotnet-interactive/dotnet-interactive'\r\n",
       "                ],\r\n",
       "                function (dotnet) {\r\n",
       "                    dotnet.init(window);\r\n",
       "                },\r\n",
       "                function (error) {\r\n",
       "                    console.log(error);\r\n",
       "                }\r\n",
       "            );\r\n",
       "        })\r\n",
       "        .catch(error => {console.log(error);});\r\n",
       "    }\r\n",
       "\r\n",
       "// ensure `require` is available globally\r\n",
       "if ((typeof(require) !==  typeof(Function)) || (typeof(require.config) !== typeof(Function))) {\r\n",
       "    let require_script = document.createElement('script');\r\n",
       "    require_script.setAttribute('src', 'https://cdnjs.cloudflare.com/ajax/libs/require.js/2.3.6/require.min.js');\r\n",
       "    require_script.setAttribute('type', 'text/javascript');\r\n",
       "    \r\n",
       "    \r\n",
       "    require_script.onload = function() {\r\n",
       "        loadDotnetInteractiveApi();\r\n",
       "    };\r\n",
       "\r\n",
       "    document.getElementsByTagName('head')[0].appendChild(require_script);\r\n",
       "}\r\n",
       "else {\r\n",
       "    loadDotnetInteractiveApi();\r\n",
       "}\r\n",
       "\r\n",
       "    </script>\r\n",
       "</div>"
      ]
     },
     "metadata": {},
     "output_type": "display_data"
    },
    {
     "name": "stdout",
     "output_type": "stream",
     "text": [
      "Name               CloudName    SubscriptionId                        State    IsDefault\n",
      "-----------------  -----------  ------------------------------------  -------  -----------\n",
      "rkttu@outlook.com  AzureCloud   e6535fda-2c47-411d-9e51-ae11ef7bde27  Enabled  True\n",
      "DES File Shares    AzureCloud   173130ce-0596-48f7-a0e4-10c465471285  Enabled  False\n"
     ]
    }
   ],
   "source": [
    "az account list"
   ]
  },
  {
   "cell_type": "markdown",
   "metadata": {
    "slideshow": {
     "slide_type": "slide"
    }
   },
   "source": [
    "## AKS 엔진 설치 상태 확인\n",
    "\n",
    "아래 명령어를 실행하여 `aks-engine`이 설치되었는지 확인합니다. 설치되어있지 않다면 OS 버전 별로 각각 설치 가이드를 따라 설치를 진행합니다."
   ]
  },
  {
   "cell_type": "code",
   "execution_count": 2,
   "metadata": {
    "scrolled": true,
    "slideshow": {
     "slide_type": "slide"
    }
   },
   "outputs": [
    {
     "name": "stdout",
     "output_type": "stream",
     "text": [
      "Version: v0.56.0\n",
      "GitCommit: 666073d49\n",
      "GitTreeState: clean\n"
     ]
    }
   ],
   "source": [
    "aks-engine version"
   ]
  },
  {
   "cell_type": "markdown",
   "metadata": {
    "slideshow": {
     "slide_type": "slide"
    }
   },
   "source": [
    "## 서비스 주체 생성\n",
    "\n",
    "쿠버네티스 클러스터를 만든 후에는 클러스터 수준에서 스스로 애저 리소스들을 제어할 수 있어야 하므로, 서비스 주체 계정을 만들어 계속 해당 계정을 사용하도록 설정합니다."
   ]
  },
  {
   "cell_type": "code",
   "execution_count": 3,
   "metadata": {
    "scrolled": true,
    "slideshow": {
     "slide_type": "slide"
    }
   },
   "outputs": [
    {
     "name": "stdout",
     "output_type": "stream",
     "text": [
      "Changing \"AzurePlaylist\" to a valid URI of \"http://AzurePlaylist\", which is the required format used for service principal names\n",
      "Found an existing application instance of \"5f6ed45a-660e-47f5-9c08-6e5515f17640\". We will patch it\n",
      "Creating a role assignment under the scope of \"/subscriptions/e6535fda-2c47-411d-9e51-ae11ef7bde27\"\n",
      "  Role assignment already exists.\n",
      "\n",
      "Your App ID is 5f6ed45a-660e-47f5-9c08-6e5515f17640\n"
     ]
    }
   ],
   "source": [
    "$SubscriptionData = (az account list -o json) | ConvertFrom-Json -Depth 16\n",
    "$SubscriptionId = $SubscriptionData[0].id\n",
    "$SvcPrincipal = (az ad sp create-for-rbac `\n",
    "  -n=\"AzurePlaylist\" --role=\"Contributor\" `\n",
    "  --scopes=\"/subscriptions/$SubscriptionId\" `\n",
    "  -o json) | ConvertFrom-Json -Depth 16\n",
    "\n",
    "$PrincipalId = $SvcPrincipal.AppId\n",
    "$PrincipalPwd = $SvcPrincipal.Password\n",
    "\n",
    "\"Your App ID is $PrincipalId\""
   ]
  },
  {
   "cell_type": "markdown",
   "metadata": {
    "slideshow": {
     "slide_type": "slide"
    }
   },
   "source": [
    "## SSH 키 준비하기\n",
    "\n",
    "아래 명령어를 실행하여 SSH 키의 공개 키를 준비합니다. 설치되어있지 않다면 SSH 키 쌍을 만듭니다."
   ]
  },
  {
   "cell_type": "code",
   "execution_count": 4,
   "metadata": {
    "scrolled": true,
    "slideshow": {
     "slide_type": "slide"
    }
   },
   "outputs": [],
   "source": [
    "$PublicKeyValue = Get-Content -Path \"$HOME\\.ssh\\id_rsa.pub\""
   ]
  },
  {
   "cell_type": "markdown",
   "metadata": {
    "slideshow": {
     "slide_type": "slide"
    }
   },
   "source": [
    "## API 모델 준비하기\n",
    "\n",
    "이제 API 모델을 준비할 차례입니다. AKS 엔진은 코드 기반 인프라 관리 방식을 구현하기 위하여 JSON API 모델을 작성하면, 여기에 맞추어 ARM 템플릿을 만들어줍니다. 이것을 애저 명령줄 도구를 통해 배포하면 손쉽게 쿠버네티스 클러스터를 생성할 수 있습니다."
   ]
  },
  {
   "cell_type": "code",
   "execution_count": 5,
   "metadata": {
    "scrolled": true,
    "slideshow": {
     "slide_type": "slide"
    }
   },
   "outputs": [],
   "source": [
    "$ApiModel = @\"\n",
    "{\n",
    "  'apiVersion': 'vlabs',\n",
    "  'properties': {\n",
    "    'orchestratorProfile': {\n",
    "      'orchestratorType': 'Kubernetes',\n",
    "      'orchestratorRelease': '1.16',\n",
    "      'kubernetesConfig': {\n",
    "        'cloudProviderBackoff': true,\n",
    "        'cloudProviderBackoffRetries': 6,\n",
    "        'cloudProviderBackoffJitter': 1,\n",
    "        'cloudProviderBackoffDuration': 6,\n",
    "        'cloudProviderBackoffExponent': 1.5,\n",
    "        'cloudProviderRateLimit': true,\n",
    "        'cloudProviderRateLimitQPS': 3,\n",
    "        'cloudProviderRateLimitBucket': 10,\n",
    "        'kubeletConfig': {\n",
    "          '--node-status-update-frequency': '1m'\n",
    "        },\n",
    "        'controllerManagerConfig': {\n",
    "          '--node-monitor-grace-period': '5m',\n",
    "          '--pod-eviction-timeout': '1m',\n",
    "          '--route-reconciliation-period': '1m'\n",
    "        }\n",
    "      }\n",
    "    },\n",
    "    'servicePrincipalProfile': {\n",
    "      'clientId': '',\n",
    "      'secret': ''\n",
    "    },\n",
    "    'masterProfile': {\n",
    "      'count': 1,\n",
    "      'vmSize': 'Standard_D5_v2'\n",
    "    },\n",
    "    'agentPoolProfiles': [\n",
    "      {\n",
    "        'name': 'pool1',\n",
    "        'count': 5,\n",
    "        'vmSize': 'Standard_D3_v2',\n",
    "        'availabilityProfile': 'AvailabilitySet'\n",
    "      },\n",
    "      {\n",
    "        'name': 'pool2',\n",
    "        'count': 5,\n",
    "        'vmSize': 'Standard_D3_v2',\n",
    "        'availabilityProfile': 'AvailabilitySet'\n",
    "      },\n",
    "      {\n",
    "        'name': 'pool3',\n",
    "        'count': 5,\n",
    "        'vmSize': 'Standard_D3_v2',\n",
    "        'availabilityProfile': 'AvailabilitySet'\n",
    "      },\n",
    "      {\n",
    "        'name': 'pool4',\n",
    "        'count': 5,\n",
    "        'vmSize': 'Standard_D3_v2',\n",
    "        'availabilityProfile': 'AvailabilitySet'\n",
    "      },\n",
    "      {\n",
    "        'name': 'pool5',\n",
    "        'count': 5,\n",
    "        'vmSize': 'Standard_D3_v2',\n",
    "        'availabilityProfile': 'AvailabilitySet'\n",
    "      }\n",
    "    ],\n",
    "    'linuxProfile': {\n",
    "      'adminUsername': 'azureuser',\n",
    "      'ssh': {\n",
    "        'publicKeys': [\n",
    "          {\n",
    "            'keyData': ''\n",
    "          }\n",
    "        ]\n",
    "      }\n",
    "    }\n",
    "  }\n",
    "}\n",
    "\"@ | ConvertFrom-Json -Depth 16"
   ]
  },
  {
   "cell_type": "markdown",
   "metadata": {
    "slideshow": {
     "slide_type": "slide"
    }
   },
   "source": [
    "## API 모델 내용 변경하기\n",
    "\n",
    "나중에 리눅스 마스터 노드에 접속할 수 있도록 현재 컴퓨터에서 사용하는 SSH 공개 키를 배포할 때 같이 등록합니다. 그리고 서비스 주체를 가리키는 아이디 값과 고유 비밀 키 값을 API 모델에 같이 지정합니다."
   ]
  },
  {
   "cell_type": "code",
   "execution_count": 6,
   "metadata": {
    "scrolled": true,
    "slideshow": {
     "slide_type": "slide"
    }
   },
   "outputs": [],
   "source": [
    "$ApiModel.properties.linuxProfile.ssh.publicKeys[0].keyData = \"$PublicKeyValue\"\n",
    "$ApiModel.properties.servicePrincipalProfile.clientId = \"$PrincipalId\"\n",
    "$ApiModel.properties.servicePrincipalProfile.secret = \"$PrincipalPwd\""
   ]
  },
  {
   "cell_type": "code",
   "execution_count": 7,
   "metadata": {
    "scrolled": true,
    "slideshow": {
     "slide_type": "slide"
    }
   },
   "outputs": [
    {
     "name": "stdout",
     "output_type": "stream",
     "text": [
      "\n",
      "\n",
      "    Directory: /Users/rkttu/Projects/azure-playlist-aks-engine\n",
      "\n",
      "Mode                 LastWriteTime         Length Name\n",
      "----                 -------------         ------ ----\n",
      "-----      2020. 12. 5. 오전 12:28          17276 EP01.ipynb\n",
      "-----      2020. 12. 5. 오전 12:28           2395 ep01.json\n",
      "\n"
     ]
    }
   ],
   "source": [
    "$ApiModel | ConvertTo-Json -Depth 16 | Out-File -Encoding utf8 -Path 'ep01.json' -Force\n",
    "\n",
    "dir 'ep01*'"
   ]
  },
  {
   "cell_type": "markdown",
   "metadata": {
    "slideshow": {
     "slide_type": "slide"
    }
   },
   "source": [
    "## API 모델을 ARM 템플릿으로 변환하고 배포하기\n",
    "\n",
    "다음의 명령어를 실행하여 API 모델을 ARM 템플릿으로 변환하고 곧바로 애저에 배포하도록 하겠습니다. 이 명령어는 최초에 한 번만 실행하고, 그 이후에는 `ep01_output` 디렉터리 안에 있는 파일들을 이용하여 클러스터를 관리하도록 합니다."
   ]
  },
  {
   "cell_type": "code",
   "execution_count": 11,
   "metadata": {
    "scrolled": true,
    "slideshow": {
     "slide_type": "slide"
    }
   },
   "outputs": [
    {
     "name": "stdout",
     "output_type": "stream",
     "text": [
      "\u001b[36mINFO\u001b[0m[0000] No subscription provided, using selected subscription from azure CLI: e6535fda-2c47-411d-9e51-ae11ef7bde27 \n",
      "\u001b[33mWARN\u001b[0m[0002] apimodel: missing masterProfile.dnsPrefix will use \"rkttuep01\" \n",
      "\u001b[33mWARN\u001b[0m[0004] containerd will be upgraded to version 1.3.7 \n",
      "\u001b[36mINFO\u001b[0m[0007] Starting ARM Deployment rkttuep01-1713952306 in resource group rkttuep01. This will take some time... \n",
      "\u001b[36mINFO\u001b[0m[0304] Finished ARM Deployment (rkttuep01-1713952306). Succeeded \n"
     ]
    }
   ],
   "source": [
    "$DnsPrefix = 'rkttuep01'\n",
    "$ResourceGroup = 'rkttuep01'\n",
    "$Location = 'westus2'\n",
    "\n",
    "aks-engine deploy --dns-prefix \"$DnsPrefix\" `\n",
    "    --resource-group \"$ResourceGroup\" `\n",
    "    --location \"$Location\" `\n",
    "    --api-model \"ep01.json\" `\n",
    "    --auto-suffix `\n",
    "    --output-directory \"ep01_output\" `\n",
    "    --auth-method cli"
   ]
  },
  {
   "cell_type": "markdown",
   "metadata": {
    "slideshow": {
     "slide_type": "slide"
    }
   },
   "source": [
    "## kubectl 실행해보기\n",
    "\n",
    "클러스터가 잘 만들어졌는지 확인해보기 위하여 다음과 같이 `KUBECONFIG` 환경 변수를 설정하여 클러스터에 접근하고, 노드와 구성 상태를 확인합니다."
   ]
  },
  {
   "cell_type": "code",
   "execution_count": 12,
   "metadata": {
    "scrolled": true,
    "slideshow": {
     "slide_type": "slide"
    }
   },
   "outputs": [
    {
     "name": "stdout",
     "output_type": "stream",
     "text": [
      "NAME                    STATUS     ROLES    AGE   VERSION    INTERNAL-IP    EXTERNAL-IP   OS-IMAGE             KERNEL-VERSION     CONTAINER-RUNTIME\n",
      "k8s-master-82468032-0   Ready      master   75s   v1.16.15   10.255.255.5   <none>        Ubuntu 18.04.5 LTS   5.4.0-1025-azure   docker://19.3.12\n",
      "k8s-pool1-82468032-0    Ready      agent    75s   v1.16.15   10.240.2.111   <none>        Ubuntu 18.04.5 LTS   5.4.0-1025-azure   docker://19.3.12\n",
      "k8s-pool1-82468032-1    Ready      agent    75s   v1.16.15   10.240.0.221   <none>        Ubuntu 18.04.5 LTS   5.4.0-1025-azure   docker://19.3.12\n",
      "k8s-pool1-82468032-2    Ready      agent    74s   v1.16.15   10.240.2.18    <none>        Ubuntu 18.04.5 LTS   5.4.0-1025-azure   docker://19.3.12\n",
      "k8s-pool1-82468032-3    Ready      agent    75s   v1.16.15   10.240.1.57    <none>        Ubuntu 18.04.5 LTS   5.4.0-1025-azure   docker://19.3.12\n",
      "k8s-pool1-82468032-4    Ready      agent    75s   v1.16.15   10.240.1.88    <none>        Ubuntu 18.04.5 LTS   5.4.0-1025-azure   docker://19.3.12\n",
      "k8s-pool2-82468032-0    Ready      agent    75s   v1.16.15   10.240.2.142   <none>        Ubuntu 18.04.5 LTS   5.4.0-1025-azure   docker://19.3.12\n",
      "k8s-pool2-82468032-1    Ready      agent    75s   v1.16.15   10.240.0.128   <none>        Ubuntu 18.04.5 LTS   5.4.0-1025-azure   docker://19.3.12\n",
      "k8s-pool2-82468032-2    Ready      agent    75s   v1.16.15   10.240.1.212   <none>        Ubuntu 18.04.5 LTS   5.4.0-1025-azure   docker://19.3.12\n",
      "k8s-pool2-82468032-3    Ready      agent    72s   v1.16.15   10.240.1.243   <none>        Ubuntu 18.04.5 LTS   5.4.0-1025-azure   docker://19.3.12\n",
      "k8s-pool2-82468032-4    Ready      agent    75s   v1.16.15   10.240.1.119   <none>        Ubuntu 18.04.5 LTS   5.4.0-1025-azure   docker://19.3.12\n",
      "k8s-pool3-82468032-0    Ready      agent    75s   v1.16.15   10.240.2.173   <none>        Ubuntu 18.04.5 LTS   5.4.0-1025-azure   docker://19.3.12\n",
      "k8s-pool3-82468032-1    Ready      agent    75s   v1.16.15   10.240.0.190   <none>        Ubuntu 18.04.5 LTS   5.4.0-1025-azure   docker://19.3.12\n",
      "k8s-pool3-82468032-2    Ready      agent    75s   v1.16.15   10.240.0.159   <none>        Ubuntu 18.04.5 LTS   5.4.0-1025-azure   docker://19.3.12\n",
      "k8s-pool3-82468032-3    Ready      agent    75s   v1.16.15   10.240.2.80    <none>        Ubuntu 18.04.5 LTS   5.4.0-1025-azure   docker://19.3.12\n",
      "k8s-pool3-82468032-4    Ready      agent    75s   v1.16.15   10.240.0.4     <none>        Ubuntu 18.04.5 LTS   5.4.0-1025-azure   docker://19.3.12\n",
      "k8s-pool4-82468032-0    NotReady   agent    15s   v1.16.15   10.240.3.10    <none>        Ubuntu 18.04.5 LTS   5.4.0-1025-azure   docker://19.3.12\n",
      "k8s-pool4-82468032-1    Ready      agent    75s   v1.16.15   10.240.0.97    <none>        Ubuntu 18.04.5 LTS   5.4.0-1025-azure   docker://19.3.12\n",
      "k8s-pool4-82468032-2    Ready      agent    75s   v1.16.15   10.240.1.150   <none>        Ubuntu 18.04.5 LTS   5.4.0-1025-azure   docker://19.3.12\n",
      "k8s-pool4-82468032-3    Ready      agent    75s   v1.16.15   10.240.0.252   <none>        Ubuntu 18.04.5 LTS   5.4.0-1025-azure   docker://19.3.12\n",
      "k8s-pool4-82468032-4    Ready      agent    75s   v1.16.15   10.240.2.235   <none>        Ubuntu 18.04.5 LTS   5.4.0-1025-azure   docker://19.3.12\n",
      "k8s-pool5-82468032-0    Ready      agent    72s   v1.16.15   10.240.1.181   <none>        Ubuntu 18.04.5 LTS   5.4.0-1025-azure   docker://19.3.12\n",
      "k8s-pool5-82468032-1    Ready      agent    75s   v1.16.15   10.240.0.66    <none>        Ubuntu 18.04.5 LTS   5.4.0-1025-azure   docker://19.3.12\n",
      "k8s-pool5-82468032-2    Ready      agent    75s   v1.16.15   10.240.0.35    <none>        Ubuntu 18.04.5 LTS   5.4.0-1025-azure   docker://19.3.12\n",
      "k8s-pool5-82468032-3    Ready      agent    75s   v1.16.15   10.240.2.49    <none>        Ubuntu 18.04.5 LTS   5.4.0-1025-azure   docker://19.3.12\n",
      "k8s-pool5-82468032-4    Ready      agent    74s   v1.16.15   10.240.2.204   <none>        Ubuntu 18.04.5 LTS   5.4.0-1025-azure   docker://19.3.12\n"
     ]
    }
   ],
   "source": [
    "$env:KUBECONFIG=\"ep01_output/kubeconfig/kubeconfig.$Location.json\"\n",
    "kubectl get nodes -o wide"
   ]
  },
  {
   "cell_type": "markdown",
   "metadata": {
    "slideshow": {
     "slide_type": "slide"
    }
   },
   "source": [
    "## 리소스 그룹 정리\n",
    "\n",
    "테스트를 위해 생성한 리소스 그룹을 제거하고 모든 리소스를 일괄 정리합니다."
   ]
  },
  {
   "cell_type": "code",
   "execution_count": 13,
   "metadata": {
    "scrolled": true,
    "slideshow": {
     "slide_type": "slide"
    }
   },
   "outputs": [],
   "source": [
    "az group delete --name $ResourceGroup --yes --no-wait"
   ]
  },
  {
   "cell_type": "markdown",
   "metadata": {
    "slideshow": {
     "slide_type": "slide"
    }
   },
   "source": [
    "Q: 만약에 이보다 더 큰 규모의 클러스터를 만들고 싶다면 알아야 할 것이 무엇이 있을까요?\n",
    "\n",
    "A: 지역별로 할당되는 인스턴스의 숫자는 다른 퍼블릭 클라우드 공급자들처럼 제한되어있습니다. 만약 원하는 댓수만큼 인스턴스를 늘리고 싶다면, 애저 고객 지원 센터를 통해 원하는 대수를 직접 요청할 수 있습니다.\n",
    "\n",
    "사용 가능한 할당량을 보는 방법은 해당되는 구독 - 설정 - 사용량 및 할당량 메뉴에서 공급자를 Microsoft.Compute로 설정하면 확인할 수 있습니다."
   ]
  },
  {
   "cell_type": "markdown",
   "metadata": {
    "slideshow": {
     "slide_type": "slide"
    }
   },
   "source": [
    "A: 할당량 증가에 관한 자세한 내용은 [http://bit.ly/rkttu-increase-azure-quota](http://bit.ly/rkttu-increase-azure-quota) 를 참고하세요. 간단한 할당량 증가 신청은 언제든 바로 신청할 수 있고, 빠른 시간 안에 할당량 조절 승인을 받을 수 있습니다."
   ]
  },
  {
   "cell_type": "markdown",
   "metadata": {
    "slideshow": {
     "slide_type": "slide"
    }
   },
   "source": [
    "클로징: 이 동영상을 보고 애저를 써봐야겠다고 생각하셨나요? 애저 계정은 누구나 무료로 만들 수 있습니다. 지금 바로 시작해보세요. (가능하다면 할인/무료 쿠폰을 포함한 가입 링크 제공) 다음 에피소드에서는 클라우드 셸을 사용할 수 있는 다양한 방법을 알아보겠습니다."
   ]
  }
 ],
 "metadata": {
  "celltoolbar": "Slideshow",
  "kernelspec": {
   "display_name": ".NET (PowerShell)",
   "language": "PowerShell",
   "name": ".net-powershell"
  },
  "language_info": {
   "file_extension": ".ps1",
   "mimetype": "text/x-powershell",
   "name": "PowerShell",
   "pygments_lexer": "powershell",
   "version": "7.0"
  }
 },
 "nbformat": 4,
 "nbformat_minor": 2
}
