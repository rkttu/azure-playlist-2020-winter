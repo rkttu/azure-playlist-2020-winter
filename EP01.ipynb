{
 "cells": [
  {
   "cell_type": "markdown",
   "metadata": {
    "slideshow": {
     "slide_type": "slide"
    }
   },
   "source": [
    "# EP01: 대규모 쿠버네티스 클러스터 만들기"
   ]
  },
  {
   "cell_type": "markdown",
   "metadata": {
    "slideshow": {
     "slide_type": "slide"
    }
   },
   "source": [
    "## 애저 로그인 상태 확인\n",
    "\n",
    "우선 애저 커맨드 라인 도구의 로그인 상태를 먼저 확인합니다. 로그인 상태가 아니면 다른 터미널에서 `az login` 명령을 실행합니다. 설치되어있지 않다면 OS 버전 별로 애저 커맨드 라인 도구를 설치하고 준비합니다."
   ]
  },
  {
   "cell_type": "code",
   "execution_count": 1,
   "metadata": {
    "scrolled": true,
    "slideshow": {
     "slide_type": "slide"
    }
   },
   "outputs": [
    {
     "data": {
      "text/html": [
       "\r\n",
       "<div>\r\n",
       "    <div id='dotnet-interactive-this-cell-41375.Microsoft.DotNet.Interactive.Http.HttpPort' style='display: none'>\r\n",
       "        The below script needs to be able to find the current output cell; this is an easy method to get it.\r\n",
       "    </div>\r\n",
       "    <script type='text/javascript'>\r\n",
       "async function probeAddresses(probingAddresses) {\r\n",
       "    function timeout(ms, promise) {\r\n",
       "        return new Promise(function (resolve, reject) {\r\n",
       "            setTimeout(function () {\r\n",
       "                reject(new Error('timeout'))\r\n",
       "            }, ms)\r\n",
       "            promise.then(resolve, reject)\r\n",
       "        })\r\n",
       "    }\r\n",
       "\r\n",
       "    if (Array.isArray(probingAddresses)) {\r\n",
       "        for (let i = 0; i < probingAddresses.length; i++) {\r\n",
       "\r\n",
       "            let rootUrl = probingAddresses[i];\r\n",
       "\r\n",
       "            if (!rootUrl.endsWith('/')) {\r\n",
       "                rootUrl = `${rootUrl}/`;\r\n",
       "            }\r\n",
       "\r\n",
       "            try {\r\n",
       "                let response = await timeout(1000, fetch(`${rootUrl}discovery`, {\r\n",
       "                    method: 'POST',\r\n",
       "                    cache: 'no-cache',\r\n",
       "                    mode: 'cors',\r\n",
       "                    timeout: 1000,\r\n",
       "                    headers: {\r\n",
       "                        'Content-Type': 'text/plain'\r\n",
       "                    },\r\n",
       "                    body: probingAddresses[i]\r\n",
       "                }));\r\n",
       "\r\n",
       "                if (response.status == 200) {\r\n",
       "                    return rootUrl;\r\n",
       "                }\r\n",
       "            }\r\n",
       "            catch (e) { }\r\n",
       "        }\r\n",
       "    }\r\n",
       "}\r\n",
       "\r\n",
       "function loadDotnetInteractiveApi() {\r\n",
       "    probeAddresses([\"http://172.24.13.178:1030/\", \"http://127.0.0.1:1030/\"])\r\n",
       "        .then((root) => {\r\n",
       "        // use probing to find host url and api resources\r\n",
       "        // load interactive helpers and language services\r\n",
       "        let dotnetInteractiveRequire = require.config({\r\n",
       "        context: '41375.Microsoft.DotNet.Interactive.Http.HttpPort',\r\n",
       "                paths:\r\n",
       "            {\r\n",
       "                'dotnet-interactive': `${root}resources`\r\n",
       "                }\r\n",
       "        }) || require;\r\n",
       "\r\n",
       "            window.dotnetInteractiveRequire = dotnetInteractiveRequire;\r\n",
       "\r\n",
       "            window.configureRequireFromExtension = function(extensionName, extensionCacheBuster) {\r\n",
       "                let paths = {};\r\n",
       "                paths[extensionName] = `${root}extensions/${extensionName}/resources/`;\r\n",
       "                \r\n",
       "                let internalRequire = require.config({\r\n",
       "                    context: extensionCacheBuster,\r\n",
       "                    paths: paths,\r\n",
       "                    urlArgs: `cacheBuster=${extensionCacheBuster}`\r\n",
       "                    }) || require;\r\n",
       "\r\n",
       "                return internalRequire\r\n",
       "            };\r\n",
       "        \r\n",
       "            dotnetInteractiveRequire([\r\n",
       "                    'dotnet-interactive/dotnet-interactive'\r\n",
       "                ],\r\n",
       "                function (dotnet) {\r\n",
       "                    dotnet.init(window);\r\n",
       "                },\r\n",
       "                function (error) {\r\n",
       "                    console.log(error);\r\n",
       "                }\r\n",
       "            );\r\n",
       "        })\r\n",
       "        .catch(error => {console.log(error);});\r\n",
       "    }\r\n",
       "\r\n",
       "// ensure `require` is available globally\r\n",
       "if ((typeof(require) !==  typeof(Function)) || (typeof(require.config) !== typeof(Function))) {\r\n",
       "    let require_script = document.createElement('script');\r\n",
       "    require_script.setAttribute('src', 'https://cdnjs.cloudflare.com/ajax/libs/require.js/2.3.6/require.min.js');\r\n",
       "    require_script.setAttribute('type', 'text/javascript');\r\n",
       "    \r\n",
       "    \r\n",
       "    require_script.onload = function() {\r\n",
       "        loadDotnetInteractiveApi();\r\n",
       "    };\r\n",
       "\r\n",
       "    document.getElementsByTagName('head')[0].appendChild(require_script);\r\n",
       "}\r\n",
       "else {\r\n",
       "    loadDotnetInteractiveApi();\r\n",
       "}\r\n",
       "\r\n",
       "    </script>\r\n",
       "</div>"
      ]
     },
     "metadata": {},
     "output_type": "display_data"
    },
    {
     "name": "stdout",
     "output_type": "stream",
     "text": [
      "Name               CloudName    SubscriptionId                        State    IsDefault\n",
      "-----------------  -----------  ------------------------------------  -------  -----------\n",
      "rkttu@outlook.com  AzureCloud   e6535fda-2c47-411d-9e51-ae11ef7bde27  Enabled  True\n"
     ]
    }
   ],
   "source": [
    "az account list"
   ]
  },
  {
   "cell_type": "markdown",
   "metadata": {
    "slideshow": {
     "slide_type": "slide"
    }
   },
   "source": [
    "## AKS 엔진 설치 상태 확인\n",
    "\n",
    "아래 명령어를 실행하여 `aks-engine`이 설치되었는지 확인합니다. 설치되어있지 않다면 OS 버전 별로 각각 설치 가이드를 따라 설치를 진행합니다."
   ]
  },
  {
   "cell_type": "code",
   "execution_count": 2,
   "metadata": {
    "scrolled": true,
    "slideshow": {
     "slide_type": "slide"
    }
   },
   "outputs": [
    {
     "name": "stdout",
     "output_type": "stream",
     "text": [
      "Version: v0.56.0\n",
      "GitCommit: 666073d49\n",
      "GitTreeState: clean\n"
     ]
    }
   ],
   "source": [
    "aks-engine version"
   ]
  },
  {
   "cell_type": "markdown",
   "metadata": {
    "slideshow": {
     "slide_type": "slide"
    }
   },
   "source": [
    "## 서비스 주체 생성\n",
    "\n",
    "쿠버네티스 클러스터를 만든 후에는 클러스터 수준에서 스스로 애저 리소스들을 제어할 수 있어야 하므로, 서비스 주체 계정을 만들어 계속 해당 계정을 사용하도록 설정합니다."
   ]
  },
  {
   "cell_type": "code",
   "execution_count": 4,
   "metadata": {
    "scrolled": true,
    "slideshow": {
     "slide_type": "slide"
    }
   },
   "outputs": [
    {
     "name": "stdout",
     "output_type": "stream",
     "text": [
      "Changing \"AzurePlaylist\" to a valid URI of \"http://AzurePlaylist\", which is the required format used for service principal names\n",
      "Found an existing application instance of \"5f6ed45a-660e-47f5-9c08-6e5515f17640\". We will patch it\n",
      "Creating a role assignment under the scope of \"/subscriptions/e6535fda-2c47-411d-9e51-ae11ef7bde27\"\n",
      "  Role assignment already exists.\n",
      "\n",
      "Your App ID is 5f6ed45a-660e-47f5-9c08-6e5515f17640\n"
     ]
    }
   ],
   "source": [
    "$SubscriptionData = (az account list -o json) | ConvertFrom-Json -Depth 16\n",
    "$SubscriptionId = $SubscriptionData[0].id\n",
    "$SvcPrincipal = (az ad sp create-for-rbac `\n",
    "  -n=\"AzurePlaylist\" --role=\"Contributor\" `\n",
    "  --scopes=\"/subscriptions/$SubscriptionId\" `\n",
    "  -o json) | ConvertFrom-Json -Depth 16\n",
    "\n",
    "$PrincipalId = $SvcPrincipal.AppId\n",
    "$PrincipalPwd = $SvcPrincipal.Password\n",
    "\n",
    "\"Your App ID is $PrincipalId\""
   ]
  },
  {
   "cell_type": "markdown",
   "metadata": {
    "slideshow": {
     "slide_type": "slide"
    }
   },
   "source": [
    "## SSH 키 준비하기\n",
    "\n",
    "아래 명령어를 실행하여 SSH 키의 공개 키를 준비합니다. 설치되어있지 않다면 SSH 키 쌍을 만듭니다."
   ]
  },
  {
   "cell_type": "code",
   "execution_count": 5,
   "metadata": {
    "scrolled": true,
    "slideshow": {
     "slide_type": "slide"
    }
   },
   "outputs": [],
   "source": [
    "$PublicKeyValue = Get-Content -Path \"$HOME\\.ssh\\id_rsa.pub\""
   ]
  },
  {
   "cell_type": "markdown",
   "metadata": {
    "slideshow": {
     "slide_type": "slide"
    }
   },
   "source": [
    "## API 모델 준비하기\n",
    "\n",
    "이제 API 모델을 준비할 차례입니다. AKS 엔진은 코드 기반 인프라 관리 방식을 구현하기 위하여 JSON API 모델을 작성하면, 여기에 맞추어 ARM 템플릿을 만들어줍니다. 이것을 애저 명령줄 도구를 통해 배포하면 손쉽게 쿠버네티스 클러스터를 생성할 수 있습니다."
   ]
  },
  {
   "cell_type": "code",
   "execution_count": 6,
   "metadata": {
    "scrolled": true,
    "slideshow": {
     "slide_type": "slide"
    }
   },
   "outputs": [],
   "source": [
    "$ApiModel = @\"\n",
    "{\n",
    "  'apiVersion': 'vlabs',\n",
    "  'properties': {\n",
    "    'orchestratorProfile': {\n",
    "      'orchestratorType': 'Kubernetes',\n",
    "      'orchestratorRelease': '1.16',\n",
    "      'kubernetesConfig': {\n",
    "        'cloudProviderBackoff': true,\n",
    "        'cloudProviderBackoffRetries': 6,\n",
    "        'cloudProviderBackoffJitter': 1,\n",
    "        'cloudProviderBackoffDuration': 6,\n",
    "        'cloudProviderBackoffExponent': 1.5,\n",
    "        'cloudProviderRateLimit': true,\n",
    "        'cloudProviderRateLimitQPS': 3,\n",
    "        'cloudProviderRateLimitBucket': 10,\n",
    "        'kubeletConfig': {\n",
    "          '--node-status-update-frequency': '1m'\n",
    "        },\n",
    "        'controllerManagerConfig': {\n",
    "          '--node-monitor-grace-period': '5m',\n",
    "          '--pod-eviction-timeout': '1m',\n",
    "          '--route-reconciliation-period': '1m'\n",
    "        }\n",
    "      }\n",
    "    },\n",
    "    'servicePrincipalProfile': {\n",
    "      'clientId': '',\n",
    "      'secret': ''\n",
    "    },\n",
    "    'masterProfile': {\n",
    "      'count': 1,\n",
    "      'vmSize': 'Standard_D5_v2'\n",
    "    },\n",
    "    'agentPoolProfiles': [\n",
    "      {\n",
    "        'name': 'pool1',\n",
    "        'count': 5,\n",
    "        'vmSize': 'Standard_D3_v2',\n",
    "        'availabilityProfile': 'AvailabilitySet'\n",
    "      },\n",
    "      {\n",
    "        'name': 'pool2',\n",
    "        'count': 5,\n",
    "        'vmSize': 'Standard_D3_v2',\n",
    "        'availabilityProfile': 'AvailabilitySet'\n",
    "      },\n",
    "      {\n",
    "        'name': 'pool3',\n",
    "        'count': 5,\n",
    "        'vmSize': 'Standard_D3_v2',\n",
    "        'availabilityProfile': 'AvailabilitySet'\n",
    "      },\n",
    "      {\n",
    "        'name': 'pool4',\n",
    "        'count': 5,\n",
    "        'vmSize': 'Standard_D3_v2',\n",
    "        'availabilityProfile': 'AvailabilitySet'\n",
    "      },\n",
    "      {\n",
    "        'name': 'pool5',\n",
    "        'count': 5,\n",
    "        'vmSize': 'Standard_D3_v2',\n",
    "        'availabilityProfile': 'AvailabilitySet'\n",
    "      }\n",
    "    ],\n",
    "    'linuxProfile': {\n",
    "      'adminUsername': 'azureuser',\n",
    "      'ssh': {\n",
    "        'publicKeys': [\n",
    "          {\n",
    "            'keyData': ''\n",
    "          }\n",
    "        ]\n",
    "      }\n",
    "    }\n",
    "  }\n",
    "}\n",
    "\"@ | ConvertFrom-Json -Depth 16"
   ]
  },
  {
   "cell_type": "markdown",
   "metadata": {
    "slideshow": {
     "slide_type": "slide"
    }
   },
   "source": [
    "## API 모델 내용 변경하기\n",
    "\n",
    "나중에 리눅스 마스터 노드에 접속할 수 있도록 현재 컴퓨터에서 사용하는 SSH 공개 키를 배포할 때 같이 등록합니다. 그리고 서비스 주체를 가리키는 아이디 값과 고유 비밀 키 값을 API 모델에 같이 지정합니다."
   ]
  },
  {
   "cell_type": "code",
   "execution_count": 7,
   "metadata": {
    "scrolled": true,
    "slideshow": {
     "slide_type": "slide"
    }
   },
   "outputs": [],
   "source": [
    "$ApiModel.properties.linuxProfile.ssh.publicKeys[0].keyData = \"$PublicKeyValue\"\n",
    "$ApiModel.properties.servicePrincipalProfile.clientId = \"$PrincipalId\"\n",
    "$ApiModel.properties.servicePrincipalProfile.secret = \"$PrincipalPwd\""
   ]
  },
  {
   "cell_type": "code",
   "execution_count": 8,
   "metadata": {
    "scrolled": true,
    "slideshow": {
     "slide_type": "slide"
    }
   },
   "outputs": [
    {
     "name": "stdout",
     "output_type": "stream",
     "text": [
      "\n",
      "\n",
      "    Directory: /Users/rkttu/Projects/azure-playlist-aks-engine\n",
      "\n",
      "Mode                 LastWriteTime         Length Name\n",
      "----                 -------------         ------ ----\n",
      "d----      2020. 11. 8.  오후 6:41                ep01_output\n",
      "d----      2020. 11. 8.  오후 4:14                translations\n",
      "-----      2020. 11. 8.  오후 6:49          17264 EP01.ipynb\n",
      "-----      2020. 11. 8.  오후 6:50           2395 ep01.json\n",
      "\n"
     ]
    }
   ],
   "source": [
    "$ApiModel | ConvertTo-Json -Depth 16 | Out-File -Encoding utf8 -Path 'ep01.json' -Force\n",
    "\n",
    "dir 'ep01*'"
   ]
  },
  {
   "cell_type": "markdown",
   "metadata": {
    "slideshow": {
     "slide_type": "slide"
    }
   },
   "source": [
    "## API 모델을 ARM 템플릿으로 변환하고 배포하기\n",
    "\n",
    "다음의 명령어를 실행하여 API 모델을 ARM 템플릿으로 변환하고 곧바로 애저에 배포하도록 하겠습니다. 이 명령어는 최초에 한 번만 실행하고, 그 이후에는 `ep01_output` 디렉터리 안에 있는 파일들을 이용하여 클러스터를 관리하도록 합니다."
   ]
  },
  {
   "cell_type": "code",
   "execution_count": 87,
   "metadata": {
    "scrolled": true,
    "slideshow": {
     "slide_type": "slide"
    }
   },
   "outputs": [
    {
     "name": "stdout",
     "output_type": "stream",
     "text": [
      "\u001b[36mINFO\u001b[0m[0000] No subscription provided, using selected subscription from azure CLI: e6535fda-2c47-411d-9e51-ae11ef7bde27 \n",
      "\u001b[33mWARN\u001b[0m[0003] apimodel: missing masterProfile.dnsPrefix will use \"rkttuep01\" \n",
      "\u001b[33mWARN\u001b[0m[0004] containerd will be upgraded to version 1.3.7 \n",
      "\u001b[36mINFO\u001b[0m[0008] Starting ARM Deployment rkttuep01-1800061721 in resource group rkttuep01. This will take some time... \n",
      "\u001b[36mINFO\u001b[0m[0243] Finished ARM Deployment (rkttuep01-1800061721). Succeeded \n"
     ]
    }
   ],
   "source": [
    "$DnsPrefix = 'rkttuep01'\n",
    "$ResourceGroup = 'rkttuep01'\n",
    "$Location = 'westus2'\n",
    "\n",
    "aks-engine deploy --dns-prefix \"$DnsPrefix\" `\n",
    "    --resource-group \"$ResourceGroup\" `\n",
    "    --location \"$Location\" `\n",
    "    --api-model \"ep01.json\" `\n",
    "    --auto-suffix `\n",
    "    --output-directory \"ep01_output\" `\n",
    "    --auth-method cli"
   ]
  },
  {
   "cell_type": "markdown",
   "metadata": {
    "slideshow": {
     "slide_type": "slide"
    }
   },
   "source": [
    "## kubectl 실행해보기\n",
    "\n",
    "클러스터가 잘 만들어졌는지 확인해보기 위하여 다음과 같이 `KUBECONFIG` 환경 변수를 설정하여 클러스터에 접근하고, 노드와 구성 상태를 확인합니다."
   ]
  },
  {
   "cell_type": "code",
   "execution_count": 88,
   "metadata": {
    "scrolled": true,
    "slideshow": {
     "slide_type": "slide"
    }
   },
   "outputs": [
    {
     "name": "stdout",
     "output_type": "stream",
     "text": [
      "NAME                    STATUS   ROLES    AGE   VERSION    INTERNAL-IP    EXTERNAL-IP   OS-IMAGE             KERNEL-VERSION     CONTAINER-RUNTIME\n",
      "k8s-master-22285348-0   Ready    master   77s   v1.16.15   10.255.255.5   <none>        Ubuntu 18.04.5 LTS   5.4.0-1025-azure   docker://19.3.12\n",
      "k8s-pool1-22285348-0    Ready    agent    77s   v1.16.15   10.240.0.4     <none>        Ubuntu 18.04.5 LTS   5.4.0-1025-azure   docker://19.3.12\n",
      "k8s-pool1-22285348-1    Ready    agent    72s   v1.16.15   10.240.2.80    <none>        Ubuntu 18.04.5 LTS   5.4.0-1025-azure   docker://19.3.12\n",
      "k8s-pool1-22285348-2    Ready    agent    74s   v1.16.15   10.240.0.220   <none>        Ubuntu 18.04.5 LTS   5.4.0-1025-azure   docker://19.3.12\n",
      "k8s-pool1-22285348-3    Ready    agent    77s   v1.16.15   10.240.0.189   <none>        Ubuntu 18.04.5 LTS   5.4.0-1025-azure   docker://19.3.12\n",
      "k8s-pool1-22285348-4    Ready    agent    77s   v1.16.15   10.240.0.35    <none>        Ubuntu 18.04.5 LTS   5.4.0-1025-azure   docker://19.3.12\n",
      "k8s-pool2-22285348-0    Ready    agent    77s   v1.16.15   10.240.2.18    <none>        Ubuntu 18.04.5 LTS   5.4.0-1025-azure   docker://19.3.12\n",
      "k8s-pool2-22285348-1    Ready    agent    77s   v1.16.15   10.240.0.66    <none>        Ubuntu 18.04.5 LTS   5.4.0-1025-azure   docker://19.3.12\n",
      "k8s-pool2-22285348-2    Ready    agent    77s   v1.16.15   10.240.1.119   <none>        Ubuntu 18.04.5 LTS   5.4.0-1025-azure   docker://19.3.12\n",
      "k8s-pool2-22285348-3    Ready    agent    77s   v1.16.15   10.240.1.243   <none>        Ubuntu 18.04.5 LTS   5.4.0-1025-azure   docker://19.3.12\n",
      "k8s-pool2-22285348-4    Ready    agent    77s   v1.16.15   10.240.0.97    <none>        Ubuntu 18.04.5 LTS   5.4.0-1025-azure   docker://19.3.12\n",
      "k8s-pool3-22285348-0    Ready    agent    77s   v1.16.15   10.240.1.181   <none>        Ubuntu 18.04.5 LTS   5.4.0-1025-azure   docker://19.3.12\n",
      "k8s-pool3-22285348-1    Ready    agent    76s   v1.16.15   10.240.2.111   <none>        Ubuntu 18.04.5 LTS   5.4.0-1025-azure   docker://19.3.12\n",
      "k8s-pool3-22285348-2    Ready    agent    74s   v1.16.15   10.240.1.57    <none>        Ubuntu 18.04.5 LTS   5.4.0-1025-azure   docker://19.3.12\n",
      "k8s-pool3-22285348-3    Ready    agent    76s   v1.16.15   10.240.2.49    <none>        Ubuntu 18.04.5 LTS   5.4.0-1025-azure   docker://19.3.12\n",
      "k8s-pool3-22285348-4    Ready    agent    76s   v1.16.15   10.240.1.212   <none>        Ubuntu 18.04.5 LTS   5.4.0-1025-azure   docker://19.3.12\n",
      "k8s-pool4-22285348-0    Ready    agent    76s   v1.16.15   10.240.2.142   <none>        Ubuntu 18.04.5 LTS   5.4.0-1025-azure   docker://19.3.12\n",
      "k8s-pool4-22285348-1    Ready    agent    77s   v1.16.15   10.240.2.173   <none>        Ubuntu 18.04.5 LTS   5.4.0-1025-azure   docker://19.3.12\n",
      "k8s-pool4-22285348-2    Ready    agent    77s   v1.16.15   10.240.0.158   <none>        Ubuntu 18.04.5 LTS   5.4.0-1025-azure   docker://19.3.12\n",
      "k8s-pool4-22285348-3    Ready    agent    77s   v1.16.15   10.240.1.150   <none>        Ubuntu 18.04.5 LTS   5.4.0-1025-azure   docker://19.3.12\n",
      "k8s-pool4-22285348-4    Ready    agent    77s   v1.16.15   10.240.2.235   <none>        Ubuntu 18.04.5 LTS   5.4.0-1025-azure   docker://19.3.12\n",
      "k8s-pool5-22285348-0    Ready    agent    77s   v1.16.15   10.240.2.204   <none>        Ubuntu 18.04.5 LTS   5.4.0-1025-azure   docker://19.3.12\n",
      "k8s-pool5-22285348-1    Ready    agent    77s   v1.16.15   10.240.0.251   <none>        Ubuntu 18.04.5 LTS   5.4.0-1025-azure   docker://19.3.12\n",
      "k8s-pool5-22285348-2    Ready    agent    77s   v1.16.15   10.240.1.26    <none>        Ubuntu 18.04.5 LTS   5.4.0-1025-azure   docker://19.3.12\n",
      "k8s-pool5-22285348-3    Ready    agent    77s   v1.16.15   10.240.1.88    <none>        Ubuntu 18.04.5 LTS   5.4.0-1025-azure   docker://19.3.12\n",
      "k8s-pool5-22285348-4    Ready    agent    77s   v1.16.15   10.240.3.10    <none>        Ubuntu 18.04.5 LTS   5.4.0-1025-azure   docker://19.3.12\n"
     ]
    }
   ],
   "source": [
    "$env:KUBECONFIG=\"ep01_output/kubeconfig/kubeconfig.$Location.json\"\n",
    "kubectl get nodes -o wide"
   ]
  },
  {
   "cell_type": "markdown",
   "metadata": {
    "slideshow": {
     "slide_type": "slide"
    }
   },
   "source": [
    "## 리소스 그룹 정리\n",
    "\n",
    "테스트를 위해 생성한 리소스 그룹을 제거하고 모든 리소스를 일괄 정리합니다."
   ]
  },
  {
   "cell_type": "code",
   "execution_count": 89,
   "metadata": {
    "scrolled": true,
    "slideshow": {
     "slide_type": "slide"
    }
   },
   "outputs": [],
   "source": [
    "az group delete --name $ResourceGroup --yes --no-wait"
   ]
  },
  {
   "cell_type": "markdown",
   "metadata": {
    "slideshow": {
     "slide_type": "slide"
    }
   },
   "source": [
    "## 감사합니다!"
   ]
  }
 ],
 "metadata": {
  "celltoolbar": "Slideshow",
  "kernelspec": {
   "display_name": ".NET (PowerShell)",
   "language": "PowerShell",
   "name": ".net-powershell"
  },
  "language_info": {
   "file_extension": ".ps1",
   "mimetype": "text/x-powershell",
   "name": "PowerShell",
   "pygments_lexer": "powershell",
   "version": "7.0"
  }
 },
 "nbformat": 4,
 "nbformat_minor": 2
}
