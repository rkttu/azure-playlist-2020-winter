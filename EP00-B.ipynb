{
 "cells": [
  {
   "cell_type": "markdown",
   "metadata": {
    "slideshow": {
     "slide_type": "slide"
    }
   },
   "source": [
    "# AKS 엔진 소개"
   ]
  },
  {
   "cell_type": "markdown",
   "metadata": {
    "slideshow": {
     "slide_type": "slide"
    }
   },
   "source": [
    "오프닝: 이번 시리즈에서는 오픈 소스로 공개된 애저 쿠버네티스의 핵심 구성 요소인 AKS 엔진에 대한 소개를 살펴보고자 합니다."
   ]
  },
  {
   "cell_type": "markdown",
   "metadata": {
    "slideshow": {
     "slide_type": "slide"
    }
   },
   "source": [
    "Q: AKS 엔진에 대한 이야기 전에, 애저 쿠버네티스 서비스에서 새로운 기능을 남들보다 빨리 체험할 수 있는 방법이 있다면서요?\n",
    "\n",
    "A: 네. 이전에 클라우드 셸을 소개하면서, 애저 클라우드 셸 자체도 오픈 소스로 제공이 된다고 말씀드렸었는데요, 애저 쿠버네티스 서비스도 마찬가지로 AKS 엔진이라는 오픈 소스 프로젝트를 기반으로 서비스를 제공합니다."
   ]
  },
  {
   "cell_type": "markdown",
   "metadata": {
    "slideshow": {
     "slide_type": "slide"
    }
   },
   "source": [
    "A: 우리가 AZ 명령어로 AKS 클러스터 생성 요청을 보내면, 애저에서는 AKS 엔진을 이용하여 만들어진 클러스터의 현재 상태에서 원하는 상태로 변경하기 위해 필요한 ARM 템플릿을 만들고, 나머지 처리를 애저 리소스 관리자에게 맡기는 방식으로 작업을 처리하게 됩니다."
   ]
  },
  {
   "cell_type": "markdown",
   "metadata": {
    "slideshow": {
     "slide_type": "slide"
    }
   },
   "source": [
    "Q: 애저 쿠버네티스 엔진으로는 무엇을 할 수 있나요?\n",
    "\n",
    "A: Code-as-a-Infrastructure를 들어보신 적이 있나요? AKS 엔진은 애저 리소스 관리자에게 전달할 ARM 템플릿 JSON 파일을 자동으로 생성해주는 Golang으로 만든 도구입니다."
   ]
  },
  {
   "cell_type": "markdown",
   "metadata": {
    "slideshow": {
     "slide_type": "slide"
    }
   },
   "source": [
    "A: 이 때 사람이 일일이 ARM 템플릿을 프로그래밍하지 않고, 짧은 JSON 파일로 된 주문서를 넣으면 AKS 엔진이 나머지 코드를 대신 작성해줍니다.\n",
    "\n",
    "여기서 지정할 수 있는 옵션의 종류와 범위가 풍부하고 넓습니다.\n",
    "\n",
    "그리고 나중에 다시 말씀드리겠지만 AKS 엔진은 애저 스택에도 쉽게 적용할 수 있습니다."
   ]
  },
  {
   "cell_type": "markdown",
   "metadata": {
    "slideshow": {
     "slide_type": "slide"
    }
   },
   "source": [
    "Q: AKS 엔진으로 쿠버네티스 클러스터를 만드는 것은 AKS와 무엇이 다른가요?\n",
    "\n",
    "A: AKS는 마스터 노드에 대한 관리 부담 없이 쿠버네티스에 애플리케이션을 빠르게 배포할 수 있도록 만들어주는 서비스입니다.\n",
    "\n",
    "만약 특이한 클러스터 구성을 원하거나, 마스터 노드 또는 쿠버네티스 그 자체에 대한 연구와 학습이 필요하다면 AKS 엔진으로 마스터 노드부터 직접 구축하는 것이 가능합니다."
   ]
  },
  {
   "cell_type": "markdown",
   "metadata": {
    "slideshow": {
     "slide_type": "slide"
    }
   },
   "source": [
    "Q: 그렇다면 사용할 때 드는 비용은 차이가 나는 부분이 있겠군요?\n",
    "\n",
    "A: 네 맞습니다. AKS를 사용할 경우에는 마이크로소프트가 관리하는 쿠버네티스 클러스터를 연결해서 사용하는 것이므로 마스터 노드와 쿠버네티스 클러스터 핵심에 대한 커스터마이징이나 기능 변경은 할 수 없습니다.\n",
    "\n",
    "대신 추가로 비용을 지불하지 않아도 됩니다.\n",
    "\n",
    "반면, 좀 더 복잡하고 고도화된 기능을 사용하기 원한다면 마스터 노드까지도 직접 쉽게 구축하기 위하여 AKS 엔진을 이용할 수 있는 것이지요."
   ]
  },
  {
   "cell_type": "markdown",
   "metadata": {
    "slideshow": {
     "slide_type": "slide"
    }
   },
   "source": [
    "Q: AKS 엔진을 사용하기 위해서는 미리 살펴보는 게 좋을 것 같은데, 어디서 자세한 내용을 볼 수 있나요?\n",
    "\n",
    "A: 화면에 나가는 주소에서 자세한 문서와 샘플 스크립트를 보실 수 있습니다.\n",
    "\n",
    "[https://github.com/Azure/aks-engine](https://github.com/Azure/aks-engine)\n",
    "\n",
    "[https://github.com/Azure/aks-engine/blob/master/docs/tutorials/README.md](https://github.com/Azure/aks-engine/blob/master/docs/tutorials/README.md)"
   ]
  },
  {
   "cell_type": "markdown",
   "metadata": {
    "slideshow": {
     "slide_type": "slide"
    }
   },
   "source": [
    "클로징: 이 동영상을 보고 애저를 써봐야겠다고 생각하셨나요? 애저 계정은 누구나 무료로 만들 수 있습니다. 지금 바로 시작해보세요. (가능하다면 할인/무료 쿠폰을 포함한 가입 링크 제공) 다음 에피소드에서는 클라우드 셸을 사용할 수 있는 다양한 방법을 알아보겠습니다."
   ]
  }
 ],
 "metadata": {
  "celltoolbar": "Slideshow",
  "kernelspec": {
   "display_name": "Python 3",
   "language": "python",
   "name": "python3"
  },
  "language_info": {
   "codemirror_mode": {
    "name": "ipython",
    "version": 3
   },
   "file_extension": ".py",
   "mimetype": "text/x-python",
   "name": "python",
   "nbconvert_exporter": "python",
   "pygments_lexer": "ipython3",
   "version": "3.7.4"
  }
 },
 "nbformat": 4,
 "nbformat_minor": 2
}
