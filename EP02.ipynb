{
 "cells": [
  {
   "cell_type": "markdown",
   "metadata": {
    "slideshow": {
     "slide_type": "slide"
    }
   },
   "source": [
    "# EP02: 머신러닝용 GPU 클러스터 쉽게 만들기"
   ]
  },
  {
   "cell_type": "markdown",
   "metadata": {
    "slideshow": {
     "slide_type": "slide"
    }
   },
   "source": [
    "## 애저 로그인 상태 확인\n",
    "\n",
    "우선 애저 커맨드 라인 도구의 로그인 상태를 먼저 확인합니다. 로그인 상태가 아니면 다른 터미널에서 `az login` 명령을 실행합니다. 설치되어있지 않다면 OS 버전 별로 애저 커맨드 라인 도구를 설치하고 준비합니다."
   ]
  },
  {
   "cell_type": "code",
   "execution_count": 2,
   "metadata": {
    "scrolled": true,
    "slideshow": {
     "slide_type": "slide"
    }
   },
   "outputs": [
    {
     "name": "stdout",
     "output_type": "stream",
     "text": [
      "Name               CloudName    SubscriptionId                        State    IsDefault\n",
      "-----------------  -----------  ------------------------------------  -------  -----------\n",
      "rkttu@outlook.com  AzureCloud   e6535fda-2c47-411d-9e51-ae11ef7bde27  Enabled  True\n"
     ]
    }
   ],
   "source": [
    "az account list"
   ]
  },
  {
   "cell_type": "markdown",
   "metadata": {
    "slideshow": {
     "slide_type": "slide"
    }
   },
   "source": [
    "## AKS 엔진 설치 상태 확인\n",
    "\n",
    "아래 명령어를 실행하여 `aks-engine`이 설치되었는지 확인합니다. 설치되어있지 않다면 OS 버전 별로 각각 설치 가이드를 따라 설치를 진행합니다."
   ]
  },
  {
   "cell_type": "code",
   "execution_count": 3,
   "metadata": {
    "scrolled": true,
    "slideshow": {
     "slide_type": "slide"
    }
   },
   "outputs": [
    {
     "name": "stdout",
     "output_type": "stream",
     "text": [
      "Version: v0.56.0\n",
      "GitCommit: 666073d49\n",
      "GitTreeState: clean\n"
     ]
    }
   ],
   "source": [
    "aks-engine version"
   ]
  },
  {
   "cell_type": "markdown",
   "metadata": {
    "slideshow": {
     "slide_type": "slide"
    }
   },
   "source": [
    "## 서비스 주체 생성\n",
    "\n",
    "쿠버네티스 클러스터를 만든 후에는 클러스터 수준에서 스스로 애저 리소스들을 제어할 수 있어야 하므로, 서비스 주체 계정을 만들어 계속 해당 계정을 사용하도록 설정합니다."
   ]
  },
  {
   "cell_type": "code",
   "execution_count": 4,
   "metadata": {
    "scrolled": true,
    "slideshow": {
     "slide_type": "slide"
    }
   },
   "outputs": [
    {
     "name": "stdout",
     "output_type": "stream",
     "text": [
      "Changing \"AzurePlaylist\" to a valid URI of \"http://AzurePlaylist\", which is the required format used for service principal names\n",
      "Found an existing application instance of \"5f6ed45a-660e-47f5-9c08-6e5515f17640\". We will patch it\n",
      "Creating a role assignment under the scope of \"/subscriptions/e6535fda-2c47-411d-9e51-ae11ef7bde27\"\n",
      "  Role assignment already exists.\n",
      "\n",
      "Your App ID is 5f6ed45a-660e-47f5-9c08-6e5515f17640\n"
     ]
    }
   ],
   "source": [
    "$SubscriptionData = (az account list -o json) | ConvertFrom-Json -Depth 16\n",
    "$SubscriptionId = $SubscriptionData[0].id\n",
    "$SvcPrincipal = (az ad sp create-for-rbac `\n",
    "  -n=\"AzurePlaylist\" --role=\"Contributor\" `\n",
    "  --scopes=\"/subscriptions/$SubscriptionId\" `\n",
    "  -o json) | ConvertFrom-Json -Depth 16\n",
    "\n",
    "$PrincipalId = $SvcPrincipal.AppId\n",
    "$PrincipalPwd = $SvcPrincipal.Password\n",
    "\n",
    "\"Your App ID is $PrincipalId\""
   ]
  },
  {
   "cell_type": "markdown",
   "metadata": {
    "slideshow": {
     "slide_type": "slide"
    }
   },
   "source": [
    "## SSH 키 준비하기\n",
    "\n",
    "아래 명령어를 실행하여 SSH 키의 공개 키를 준비합니다. 설치되어있지 않다면 SSH 키 쌍을 만듭니다."
   ]
  },
  {
   "cell_type": "code",
   "execution_count": 5,
   "metadata": {
    "scrolled": true,
    "slideshow": {
     "slide_type": "slide"
    }
   },
   "outputs": [],
   "source": [
    "$PublicKeyValue = Get-Content -Path \"$HOME\\.ssh\\id_rsa.pub\""
   ]
  },
  {
   "cell_type": "markdown",
   "metadata": {
    "slideshow": {
     "slide_type": "slide"
    }
   },
   "source": [
    "## API 모델 준비하기\n",
    "\n",
    "이제 API 모델을 준비할 차례입니다. AKS 엔진은 코드 기반 인프라 관리 방식을 구현하기 위하여 JSON API 모델을 작성하면, 여기에 맞추어 ARM 템플릿을 만들어줍니다. 이것을 애저 명령줄 도구를 통해 배포하면 손쉽게 쿠버네티스 클러스터를 생성할 수 있습니다."
   ]
  },
  {
   "cell_type": "code",
   "execution_count": 6,
   "metadata": {
    "scrolled": true,
    "slideshow": {
     "slide_type": "slide"
    }
   },
   "outputs": [],
   "source": [
    "$ApiModel = @\"\n",
    "{\n",
    "  'apiVersion': 'vlabs',\n",
    "  'properties': {\n",
    "    'orchestratorProfile': {\n",
    "      'orchestratorType': 'Kubernetes'\n",
    "    },\n",
    "    'servicePrincipalProfile': {\n",
    "      'clientId': '',\n",
    "      'secret': ''\n",
    "    },\n",
    "    'masterProfile': {\n",
    "      'count': 1,\n",
    "      'vmSize': 'Standard_D2_v3'\n",
    "    },\n",
    "    'agentPoolProfiles': [\n",
    "      {\n",
    "        'name': 'agentpool1',\n",
    "        'count': 3,\n",
    "        'vmSize': 'Standard_NC6',\n",
    "        'availabilityProfile': 'AvailabilitySet'\n",
    "      }\n",
    "    ],\n",
    "    'linuxProfile': {\n",
    "      'adminUsername': 'azureuser',\n",
    "      'ssh': {\n",
    "        'publicKeys': [\n",
    "          {\n",
    "            'keyData': ''\n",
    "          }\n",
    "        ]\n",
    "      }\n",
    "    }\n",
    "  }\n",
    "}\n",
    "\"@ | ConvertFrom-Json -Depth 16"
   ]
  },
  {
   "cell_type": "markdown",
   "metadata": {
    "slideshow": {
     "slide_type": "slide"
    }
   },
   "source": [
    "## API 모델 내용 변경하기\n",
    "\n",
    "나중에 리눅스 마스터 노드에 접속할 수 있도록 현재 컴퓨터에서 사용하는 SSH 공개 키를 배포할 때 같이 등록합니다. 그리고 서비스 주체를 가리키는 아이디 값과 고유 비밀 키 값을 API 모델에 같이 지정합니다."
   ]
  },
  {
   "cell_type": "code",
   "execution_count": 7,
   "metadata": {
    "scrolled": true,
    "slideshow": {
     "slide_type": "slide"
    }
   },
   "outputs": [],
   "source": [
    "$ApiModel.properties.linuxProfile.ssh.publicKeys[0].keyData = \"$PublicKeyValue\"\n",
    "$ApiModel.properties.servicePrincipalProfile.clientId = \"$PrincipalId\"\n",
    "$ApiModel.properties.servicePrincipalProfile.secret = \"$PrincipalPwd\""
   ]
  },
  {
   "cell_type": "code",
   "execution_count": 8,
   "metadata": {
    "scrolled": true,
    "slideshow": {
     "slide_type": "slide"
    }
   },
   "outputs": [
    {
     "name": "stdout",
     "output_type": "stream",
     "text": [
      "\n",
      "\n",
      "    Directory: /Users/rkttu/Projects/azure-playlist-aks-engine\n",
      "\n",
      "Mode                 LastWriteTime         Length Name\n",
      "----                 -------------         ------ ----\n",
      "-----      2020. 11. 8.  오후 8:40          17440 EP02.ipynb\n",
      "-----      2020. 11. 8.  오후 8:41           1132 ep02.json\n",
      "\n"
     ]
    }
   ],
   "source": [
    "$ApiModel | ConvertTo-Json -Depth 16 | Out-File -Encoding utf8 -Path 'ep02.json' -Force\n",
    "\n",
    "dir 'ep02*'"
   ]
  },
  {
   "cell_type": "markdown",
   "metadata": {
    "slideshow": {
     "slide_type": "slide"
    }
   },
   "source": [
    "## API 모델을 ARM 템플릿으로 변환하고 배포하기\n",
    "\n",
    "다음의 명령어를 실행하여 API 모델을 ARM 템플릿으로 변환하고 곧바로 애저에 배포하도록 하겠습니다. 이 명령어는 최초에 한 번만 실행하고, 그 이후에는 `ep01_output` 디렉터리 안에 있는 파일들을 이용하여 클러스터를 관리하도록 합니다."
   ]
  },
  {
   "cell_type": "code",
   "execution_count": 4,
   "metadata": {
    "scrolled": true,
    "slideshow": {
     "slide_type": "slide"
    }
   },
   "outputs": [],
   "source": [
    "$DnsPrefix = 'rkttuep02'\n",
    "$ResourceGroup = 'rkttuep02'\n",
    "$Location = 'eastus'"
   ]
  },
  {
   "cell_type": "code",
   "execution_count": 12,
   "metadata": {
    "scrolled": true,
    "slideshow": {
     "slide_type": "slide"
    }
   },
   "outputs": [
    {
     "name": "stdout",
     "output_type": "stream",
     "text": [
      "\u001b[36mINFO\u001b[0m[0000] No subscription provided, using selected subscription from azure CLI: e6535fda-2c47-411d-9e51-ae11ef7bde27 \n",
      "\u001b[33mWARN\u001b[0m[0003] apimodel: missing masterProfile.dnsPrefix will use \"rkttuep02\" \n",
      "\u001b[33mWARN\u001b[0m[0005] containerd will be upgraded to version 1.3.7 \n",
      "\u001b[36mINFO\u001b[0m[0008] Starting ARM Deployment rkttuep02-1818993014 in resource group rkttuep02. This will take some time... \n",
      "\u001b[36mINFO\u001b[0m[0309] Finished ARM Deployment (rkttuep02-1818993014). Succeeded \n"
     ]
    }
   ],
   "source": [
    "aks-engine deploy --dns-prefix \"$DnsPrefix\" `\n",
    "    --resource-group \"$ResourceGroup\" `\n",
    "    --location \"$Location\" `\n",
    "    --api-model \"ep02.json\" `\n",
    "    --auto-suffix `\n",
    "    --output-directory \"ep02_output\" `\n",
    "    --auth-method cli"
   ]
  },
  {
   "cell_type": "markdown",
   "metadata": {
    "slideshow": {
     "slide_type": "slide"
    }
   },
   "source": [
    "## kubectl 실행해보기\n",
    "\n",
    "클러스터가 잘 만들어졌는지 확인해보기 위하여 다음과 같이 `KUBECONFIG` 환경 변수를 설정하여 클러스터에 접근하고, 노드와 구성 상태를 확인합니다."
   ]
  },
  {
   "cell_type": "code",
   "execution_count": 5,
   "metadata": {
    "scrolled": true,
    "slideshow": {
     "slide_type": "slide"
    }
   },
   "outputs": [
    {
     "name": "stdout",
     "output_type": "stream",
     "text": [
      "NAME                        STATUS   ROLES    AGE     VERSION   INTERNAL-IP    EXTERNAL-IP   OS-IMAGE             KERNEL-VERSION     CONTAINER-RUNTIME\n",
      "k8s-agentpool1-29961391-0   Ready    agent    6m55s   v1.18.8   10.240.0.4     <none>        Ubuntu 18.04.5 LTS   5.4.0-1025-azure   docker://19.3.12\n",
      "k8s-agentpool1-29961391-1   Ready    agent    7m2s    v1.18.8   10.240.0.96    <none>        Ubuntu 18.04.5 LTS   5.4.0-1025-azure   docker://19.3.12\n",
      "k8s-agentpool1-29961391-2   Ready    agent    7m20s   v1.18.8   10.240.0.35    <none>        Ubuntu 18.04.5 LTS   5.4.0-1025-azure   docker://19.3.12\n",
      "k8s-master-29961391-0       Ready    master   7m56s   v1.18.8   10.255.255.5   <none>        Ubuntu 18.04.5 LTS   5.4.0-1025-azure   docker://19.3.12\n"
     ]
    }
   ],
   "source": [
    "$env:KUBECONFIG=\"ep02_output/kubeconfig/kubeconfig.$Location.json\"\n",
    "kubectl get nodes -o wide"
   ]
  },
  {
   "cell_type": "markdown",
   "metadata": {
    "slideshow": {
     "slide_type": "slide"
    }
   },
   "source": [
    "## NVIDIA GPU 플러그인 설치하기\n",
    "\n",
    "쿠버네티스 클러스터에 배포되는 애플리케이션에서 GPU를 사용할 수 있도록 디바이스 플러그인을 설치해야 합니다."
   ]
  },
  {
   "cell_type": "code",
   "execution_count": 11,
   "metadata": {
    "scrolled": true,
    "slideshow": {
     "slide_type": "slide"
    }
   },
   "outputs": [
    {
     "name": "stdout",
     "output_type": "stream",
     "text": [
      "Error from server (AlreadyExists): namespaces \"gpu-resources\" already exists\n",
      "daemonset.apps/nvidia-device-plugin-daemonset unchanged\n"
     ]
    }
   ],
   "source": [
    "kubectl create namespace gpu-resources\n",
    "\n",
    "$DevicePluginYaml = @'\n",
    "apiVersion: apps/v1\n",
    "kind: DaemonSet\n",
    "metadata:\n",
    "  name: nvidia-device-plugin-daemonset\n",
    "  namespace: gpu-resources\n",
    "spec:\n",
    "  selector:\n",
    "    matchLabels:\n",
    "      name: nvidia-device-plugin-ds\n",
    "  updateStrategy:\n",
    "    type: RollingUpdate\n",
    "  template:\n",
    "    metadata:\n",
    "      # Mark this pod as a critical add-on; when enabled, the critical add-on scheduler\n",
    "      # reserves resources for critical add-on pods so that they can be rescheduled after\n",
    "      # a failure.  This annotation works in tandem with the toleration below.\n",
    "      annotations:\n",
    "        scheduler.alpha.kubernetes.io/critical-pod: \"\"\n",
    "      labels:\n",
    "        name: nvidia-device-plugin-ds\n",
    "    spec:\n",
    "      tolerations:\n",
    "      # Allow this pod to be rescheduled while the node is in \"critical add-ons only\" mode.\n",
    "      # This, along with the annotation above marks this pod as a critical add-on.\n",
    "      - key: CriticalAddonsOnly\n",
    "        operator: Exists\n",
    "      - key: nvidia.com/gpu\n",
    "        operator: Exists\n",
    "        effect: NoSchedule\n",
    "      containers:\n",
    "      - image: mcr.microsoft.com/oss/nvidia/k8s-device-plugin:1.11\n",
    "        name: nvidia-device-plugin-ctr\n",
    "        securityContext:\n",
    "          allowPrivilegeEscalation: false\n",
    "          capabilities:\n",
    "            drop: [\"ALL\"]\n",
    "        volumeMounts:\n",
    "          - name: device-plugin\n",
    "            mountPath: /var/lib/kubelet/device-plugins\n",
    "      volumes:\n",
    "        - name: device-plugin\n",
    "          hostPath:\n",
    "            path: /var/lib/kubelet/device-plugins\n",
    "'@\n",
    "\n",
    "$DevicePluginYaml | kubectl apply -f -"
   ]
  },
  {
   "cell_type": "markdown",
   "metadata": {
    "slideshow": {
     "slide_type": "slide"
    }
   },
   "source": [
    "## MNIST 트레이닝 구동하기\n",
    "\n",
    "배포한 GPU 쿠버네티스 클러스터가 잘 작동하는지 확인해보기 위하여 MNIST 트레이닝 샘플을 구동해보겠습니다."
   ]
  },
  {
   "cell_type": "code",
   "execution_count": 12,
   "metadata": {
    "scrolled": true,
    "slideshow": {
     "slide_type": "slide"
    }
   },
   "outputs": [
    {
     "name": "stdout",
     "output_type": "stream",
     "text": [
      "job.batch/samples-tf-mnist-demo created\n"
     ]
    }
   ],
   "source": [
    "$MnistWorkloadYaml = @'\n",
    "apiVersion: batch/v1\n",
    "kind: Job\n",
    "metadata:\n",
    "  labels:\n",
    "    app: samples-tf-mnist-demo\n",
    "  name: samples-tf-mnist-demo\n",
    "spec:\n",
    "  template:\n",
    "    metadata:\n",
    "      labels:\n",
    "        app: samples-tf-mnist-demo\n",
    "    spec:\n",
    "      containers:\n",
    "      - name: samples-tf-mnist-demo\n",
    "        image: mcr.microsoft.com/azuredocs/samples-tf-mnist-demo:gpu\n",
    "        args: [\"--max_steps\", \"500\"]\n",
    "        imagePullPolicy: IfNotPresent\n",
    "        resources:\n",
    "          limits:\n",
    "           nvidia.com/gpu: 1\n",
    "      restartPolicy: OnFailure\n",
    "'@\n",
    "\n",
    "$MnistWorkloadYaml | kubectl apply -f -"
   ]
  },
  {
   "cell_type": "code",
   "execution_count": 13,
   "metadata": {
    "scrolled": true,
    "slideshow": {
     "slide_type": "slide"
    }
   },
   "outputs": [
    {
     "name": "stdout",
     "output_type": "stream",
     "text": [
      "NAME                    COMPLETIONS   DURATION   AGE\n",
      "samples-tf-mnist-demo   0/1           3s         3s\n"
     ]
    }
   ],
   "source": [
    "kubectl get jobs samples-tf-mnist-demo"
   ]
  },
  {
   "cell_type": "code",
   "execution_count": 22,
   "metadata": {
    "scrolled": true,
    "slideshow": {
     "slide_type": "slide"
    }
   },
   "outputs": [],
   "source": [
    "$MnistWorkload = (kubectl get pods --selector app=samples-tf-mnist-demo -o json) | ConvertFrom-Json -Depth 16\n",
    "\n",
    "$PodName = $MnistWorkload.items[0].metadata.name"
   ]
  },
  {
   "cell_type": "code",
   "execution_count": 25,
   "metadata": {
    "scrolled": true,
    "slideshow": {
     "slide_type": "slide"
    }
   },
   "outputs": [
    {
     "name": "stdout",
     "output_type": "stream",
     "text": [
      "2020-11-08 11:56:59.072288: I tensorflow/core/platform/cpu_feature_guard.cc:137] Your CPU supports instructions that this TensorFlow binary was not compiled to use: SSE4.1 SSE4.2 AVX AVX2 FMA\n",
      "2020-11-08 11:56:59.244595: I tensorflow/core/common_runtime/gpu/gpu_device.cc:1030] Found device 0 with properties: \n",
      "name: Tesla K80 major: 3 minor: 7 memoryClockRate(GHz): 0.8235\n",
      "pciBusID: a61e:00:00.0\n",
      "totalMemory: 11.17GiB freeMemory: 11.11GiB\n",
      "2020-11-08 11:56:59.244638: I tensorflow/core/common_runtime/gpu/gpu_device.cc:1120] Creating TensorFlow device (/device:GPU:0) -> (device: 0, name: Tesla K80, pci bus id: a61e:00:00.0, compute capability: 3.7)\n",
      "2020-11-08 11:57:03.840153: I tensorflow/stream_executor/dso_loader.cc:139] successfully opened CUDA library libcupti.so.8.0 locally\n",
      "Successfully downloaded train-images-idx3-ubyte.gz 9912422 bytes.\n",
      "Extracting /tmp/tensorflow/input_data/train-images-idx3-ubyte.gz\n",
      "Successfully downloaded train-labels-idx1-ubyte.gz 28881 bytes.\n"
     ]
    }
   ],
   "source": [
    "kubectl logs $PodName | head -n 10"
   ]
  },
  {
   "cell_type": "code",
   "execution_count": 24,
   "metadata": {
    "scrolled": true,
    "slideshow": {
     "slide_type": "slide"
    }
   },
   "outputs": [
    {
     "name": "stdout",
     "output_type": "stream",
     "text": [
      "Accuracy at step 410: 0.9526\n",
      "Accuracy at step 420: 0.9542\n",
      "Accuracy at step 430: 0.9508\n",
      "Accuracy at step 440: 0.9546\n",
      "Accuracy at step 450: 0.9535\n",
      "Accuracy at step 460: 0.9564\n",
      "Accuracy at step 470: 0.956\n",
      "Accuracy at step 480: 0.9558\n",
      "Accuracy at step 490: 0.9557\n",
      "Adding run metadata for 499\n"
     ]
    }
   ],
   "source": [
    "kubectl logs --tail=10 $PodName"
   ]
  },
  {
   "cell_type": "code",
   "execution_count": 26,
   "metadata": {
    "scrolled": true
   },
   "outputs": [
    {
     "name": "stdout",
     "output_type": "stream",
     "text": [
      "job.batch \"samples-tf-mnist-demo\" deleted\n"
     ]
    }
   ],
   "source": [
    "kubectl delete jobs samples-tf-mnist-demo"
   ]
  },
  {
   "cell_type": "markdown",
   "metadata": {
    "slideshow": {
     "slide_type": "slide"
    }
   },
   "source": [
    "## 리소스 그룹 정리\n",
    "\n",
    "테스트를 위해 생성한 리소스 그룹을 제거하고 모든 리소스를 일괄 정리합니다."
   ]
  },
  {
   "cell_type": "code",
   "execution_count": 27,
   "metadata": {
    "scrolled": true,
    "slideshow": {
     "slide_type": "slide"
    }
   },
   "outputs": [],
   "source": [
    "az group delete --name $ResourceGroup --yes --no-wait"
   ]
  },
  {
   "cell_type": "markdown",
   "metadata": {
    "slideshow": {
     "slide_type": "slide"
    }
   },
   "source": [
    "## 감사합니다!"
   ]
  }
 ],
 "metadata": {
  "celltoolbar": "Slideshow",
  "kernelspec": {
   "display_name": ".NET (PowerShell)",
   "language": "PowerShell",
   "name": ".net-powershell"
  },
  "language_info": {
   "file_extension": ".ps1",
   "mimetype": "text/x-powershell",
   "name": "PowerShell",
   "pygments_lexer": "powershell",
   "version": "7.0"
  }
 },
 "nbformat": 4,
 "nbformat_minor": 2
}
